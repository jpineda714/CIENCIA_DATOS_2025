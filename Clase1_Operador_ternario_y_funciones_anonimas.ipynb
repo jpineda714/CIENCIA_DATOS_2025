{
  "nbformat": 4,
  "nbformat_minor": 0,
  "metadata": {
    "colab": {
      "provenance": [],
      "authorship_tag": "ABX9TyNpI/h0iegNHcdFsOtUa0oB",
      "include_colab_link": true
    },
    "kernelspec": {
      "name": "python3",
      "display_name": "Python 3"
    },
    "language_info": {
      "name": "python"
    }
  },
  "cells": [
    {
      "cell_type": "markdown",
      "metadata": {
        "id": "view-in-github",
        "colab_type": "text"
      },
      "source": [
        "<a href=\"https://colab.research.google.com/github/jpineda714/CIENCIA_DATOS_2025/blob/main/Clase1_Operador_ternario_y_funciones_anonimas.ipynb\" target=\"_parent\"><img src=\"https://colab.research.google.com/assets/colab-badge.svg\" alt=\"Open In Colab\"/></a>"
      ]
    },
    {
      "cell_type": "markdown",
      "source": [
        "```\n",
        "if (condicion):\n",
        "  Rta si condicion es verdadera\n",
        "else:\n",
        "  Rta si condicion es falsa\n",
        "```\n",
        "Operador ternario\n",
        "```\n",
        "Rta si es verdaderi if( condicion) else\n",
        "Rta si es falso\n",
        "```"
      ],
      "metadata": {
        "id": "5IdfzTIF0Z-A"
      }
    },
    {
      "cell_type": "code",
      "execution_count": 2,
      "metadata": {
        "colab": {
          "base_uri": "https://localhost:8080/"
        },
        "id": "AoF37geb0Hb7",
        "outputId": "2439c017-6aed-41d2-8cf4-5fca3348c2db"
      },
      "outputs": [
        {
          "name": "stdout",
          "output_type": "stream",
          "text": [
            "ingrese un valor4\n",
            "ingrese un valor5\n"
          ]
        }
      ],
      "source": [
        "# Ejemplo\n",
        "# comocer cuál es el mayor de dos numeros\n",
        "\n",
        "a = int(input(\"ingrese un valor \"))\n",
        "b = int(input(\"ingrese un valor \"))"
      ]
    },
    {
      "cell_type": "code",
      "source": [
        "if a > b:\n",
        "    print(f\"{a} es mayor que {b}\")\n",
        "else:\n",
        "    print(f\"{b} es mayor que {a}\")\n",
        ""
      ],
      "metadata": {
        "colab": {
          "base_uri": "https://localhost:8080/"
        },
        "id": "_FzH2Kfp1N9X",
        "outputId": "79fa8c13-295c-4a1c-d6e1-85a02aa72d51"
      },
      "execution_count": 3,
      "outputs": [
        {
          "output_type": "stream",
          "name": "stdout",
          "text": [
            "5 es mayor que 4\n"
          ]
        }
      ]
    },
    {
      "cell_type": "code",
      "source": [
        "# Operador ternario\n",
        "msg = f\"{a} es mayor que {b}\" if a > b else f\"{b} es mayor que {a}\"\n",
        "print(msg)"
      ],
      "metadata": {
        "colab": {
          "base_uri": "https://localhost:8080/"
        },
        "id": "PvGx9Fwa1e0-",
        "outputId": "54b0b419-ed1f-4172-a319-3bccc6299d15"
      },
      "execution_count": 4,
      "outputs": [
        {
          "output_type": "stream",
          "name": "stdout",
          "text": [
            "5 es mayor que 4\n"
          ]
        }
      ]
    },
    {
      "cell_type": "markdown",
      "source": [
        "# Funciones\n",
        "\n",
        "1. Funciones / metodos\n",
        "2. Funciones anónimas\n"
      ],
      "metadata": {
        "id": "-uJWuuEC264m"
      }
    },
    {
      "cell_type": "markdown",
      "source": [
        "##Funciones\n",
        "Declarando una función\n",
        "\n",
        "```\n",
        "def (nombre_de_la_funcion)(parametros de la función):\n",
        "  Adentro va lo que se va a ejecutar\n",
        "```\n",
        "\n",
        "1. Sin parámetro, sin retorno\n",
        "2. Sin parámetro, Con retorno\n",
        "3. Con parámetro, sin retorno\n",
        "4. Con parámetro, Con retorno"
      ],
      "metadata": {
        "id": "QZrlyxwX3LhN"
      }
    },
    {
      "cell_type": "markdown",
      "source": [
        "###1. Sin parámetro, sin retorno\n",
        "Se emplea cuando no se requiere un almacenamiento en una variable local.\n",
        "\n",
        "no se requieren parametrso su uso."
      ],
      "metadata": {
        "id": "rZTZHgBL4Kkc"
      }
    },
    {
      "cell_type": "code",
      "source": [
        "def saludo():\n",
        "  print(\"Hola mundo\")"
      ],
      "metadata": {
        "id": "SmAfpTb24NIs"
      },
      "execution_count": 5,
      "outputs": []
    },
    {
      "cell_type": "code",
      "source": [
        "saludo()"
      ],
      "metadata": {
        "colab": {
          "base_uri": "https://localhost:8080/"
        },
        "id": "o_9lcM_D4V1o",
        "outputId": "db3e0403-bc08-422d-a08c-a948cf02aedc"
      },
      "execution_count": 6,
      "outputs": [
        {
          "output_type": "stream",
          "name": "stdout",
          "text": [
            "Hola mundo\n"
          ]
        }
      ]
    },
    {
      "cell_type": "markdown",
      "source": [
        "### 2. Sin parámetro, Con retorno\n",
        "\n",
        "Cuando necesito realizar una operacion, convertir variable local a global."
      ],
      "metadata": {
        "id": "Nd4tPMm-4sZn"
      }
    },
    {
      "cell_type": "code",
      "source": [
        "def numero():\n",
        "  return 4+5\n",
        "\n",
        "  numero()"
      ],
      "metadata": {
        "id": "yxi3T6gt4hIl"
      },
      "execution_count": null,
      "outputs": []
    },
    {
      "cell_type": "code",
      "source": [
        "def numero2():\n",
        "  d =4+5"
      ],
      "metadata": {
        "id": "LnfaMsAe55DH"
      },
      "execution_count": null,
      "outputs": []
    },
    {
      "cell_type": "code",
      "source": [
        "f= numero2()\n",
        "f"
      ],
      "metadata": {
        "id": "WhdIjsWd59kz"
      },
      "execution_count": null,
      "outputs": []
    },
    {
      "cell_type": "markdown",
      "source": [
        "### 3. Con parámetro, sin retorno"
      ],
      "metadata": {
        "id": "eRTKfQVq6Cak"
      }
    },
    {
      "cell_type": "code",
      "source": [
        "def cuadrado(a): print(a**2)\n",
        "cuadrado(5)"
      ],
      "metadata": {
        "colab": {
          "base_uri": "https://localhost:8080/"
        },
        "id": "tTHZeZoy6GdT",
        "outputId": "f9a80d75-58e1-4975-c721-f39d82347986"
      },
      "execution_count": 7,
      "outputs": [
        {
          "output_type": "stream",
          "name": "stdout",
          "text": [
            "25\n"
          ]
        }
      ]
    },
    {
      "cell_type": "markdown",
      "source": [
        "### 4. Con parámetro, con retorno"
      ],
      "metadata": {
        "id": "XA1hJiou6ZnC"
      }
    },
    {
      "cell_type": "code",
      "source": [
        "def cubo(b): return(b**3)\n",
        "a=cubo(6)\n",
        "a"
      ],
      "metadata": {
        "colab": {
          "base_uri": "https://localhost:8080/"
        },
        "id": "sdG8dOrs6MFI",
        "outputId": "b6bdef22-ce26-436d-f62d-5ee983c6e2c5"
      },
      "execution_count": 8,
      "outputs": [
        {
          "output_type": "execute_result",
          "data": {
            "text/plain": [
              "216"
            ]
          },
          "metadata": {},
          "execution_count": 8
        }
      ]
    },
    {
      "cell_type": "code",
      "source": [
        "def comparar(a,b):\n",
        "  return f\"{a} es mayor que {b}\" if a > b else f\"{b} es mayor que {a}\""
      ],
      "metadata": {
        "id": "hW-Y3ZW16kJD"
      },
      "execution_count": 10,
      "outputs": []
    },
    {
      "cell_type": "code",
      "source": [
        "comparar(3,9)"
      ],
      "metadata": {
        "colab": {
          "base_uri": "https://localhost:8080/",
          "height": 35
        },
        "id": "aWROWqfc614q",
        "outputId": "36e71bba-c2bd-43a5-c5cb-a70cb426609f"
      },
      "execution_count": 11,
      "outputs": [
        {
          "output_type": "execute_result",
          "data": {
            "text/plain": [
              "'9 es mayor que 3'"
            ],
            "application/vnd.google.colaboratory.intrinsic+json": {
              "type": "string"
            }
          },
          "metadata": {},
          "execution_count": 11
        }
      ]
    },
    {
      "cell_type": "markdown",
      "source": [
        "#Funciones anónimas o LAMBDA\n",
        "\n",
        "1.Faciles y rápidas\n",
        "2.No necesitan la palabra clave def\n",
        "3.Se pueden emplear n parámetros pero sólo se puede ejecutar una función por vez\n",
        "4\n",
        " Siempre usan parámetro y siempre retornan\n",
        "\n",
        " Declarabdo una función anónima\n",
        "\n",
        " Varialble = lambda (parámetro): Función del parámetro"
      ],
      "metadata": {
        "id": "nvID8CKOLDIq"
      }
    },
    {
      "cell_type": "code",
      "source": [
        "#Ejemplo: Cálculo del cuadrado de un número\n",
        "cuadrado2=lambda a:a**2\n",
        "cuadrado(4)"
      ],
      "metadata": {
        "colab": {
          "base_uri": "https://localhost:8080/"
        },
        "id": "p9GMrFWw65GS",
        "outputId": "2a785970-ef42-4055-b174-5f5899051e80"
      },
      "execution_count": 14,
      "outputs": [
        {
          "output_type": "stream",
          "name": "stdout",
          "text": [
            "16\n"
          ]
        }
      ]
    },
    {
      "cell_type": "code",
      "source": [
        "#Ejemplo 2: calcularel área de un rectángiulo\n",
        "area_rect = lambda base, altura:base*altura\n",
        "area_rect(1,2)"
      ],
      "metadata": {
        "colab": {
          "base_uri": "https://localhost:8080/"
        },
        "id": "zRHJ62tbL0I1",
        "outputId": "5afd4d35-14e3-4ffe-88a1-2f1bf622ad7b"
      },
      "execution_count": 16,
      "outputs": [
        {
          "output_type": "execute_result",
          "data": {
            "text/plain": [
              "2"
            ]
          },
          "metadata": {},
          "execution_count": 16
        }
      ]
    },
    {
      "cell_type": "code",
      "source": [
        "#Ejemplo 3: Calcular si el cuadrado de un número es mayor que 10\n",
        "ejemplo3 = lambda a:print(f\"el cuadrado de {a} es mayor que 10\" if a**2 > 10 else f\"el cuadrado de {a} NO es mayor que 10\")"
      ],
      "metadata": {
        "id": "OjgaGsvKMFe0"
      },
      "execution_count": 20,
      "outputs": []
    },
    {
      "cell_type": "code",
      "source": [
        "ejemplo3(5)"
      ],
      "metadata": {
        "colab": {
          "base_uri": "https://localhost:8080/"
        },
        "id": "Rk9SocivMrOV",
        "outputId": "20c3865c-b15a-4e00-f31a-a1ab6b69c4f5"
      },
      "execution_count": 21,
      "outputs": [
        {
          "output_type": "stream",
          "name": "stdout",
          "text": [
            "el cuadrado de 5 es mayor que 10\n"
          ]
        }
      ]
    },
    {
      "cell_type": "code",
      "source": [],
      "metadata": {
        "id": "rJ0_KEBzMtCz"
      },
      "execution_count": null,
      "outputs": []
    }
  ]
}