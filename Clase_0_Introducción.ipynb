{
  "nbformat": 4,
  "nbformat_minor": 0,
  "metadata": {
    "colab": {
      "provenance": []
    },
    "kernelspec": {
      "name": "python3",
      "display_name": "Python 3"
    },
    "language_info": {
      "name": "python"
    }
  },
  "cells": [
    {
      "cell_type": "markdown",
      "source": [
        "#PRUEBA DE VALORACIÓN\n",
        "Se realizará una prueba de valoración de aptitud de programación\n",
        "Para esto se tendrá en cuenta lo siguiente\n",
        "* La prueba durará dos horas\n",
        "* El estudiante deberá intentar desarrollar cada punto.\n",
        "* En caso de no recordar qué hacer, el estudiante deberá escribir con algoritmia la resolución del ejercicio"
      ],
      "metadata": {
        "id": "p3XhX9Z6t9mR"
      }
    },
    {
      "cell_type": "markdown",
      "source": [
        "##Estructuras de selección\n",
        "La estructura de selección de python se declara con la palabra if, y se emplea de la siguiente manera\n",
        "\n",
        "```\n",
        "# if (Condición):\n",
        "Si if se cumple sucede cositas\n",
        "# else:\n",
        "Si no, se cumplen otras cositas\n",
        "```\n",
        "\n"
      ],
      "metadata": {
        "id": "OOLwYOSQujmF"
      }
    },
    {
      "cell_type": "code",
      "source": [],
      "metadata": {
        "id": "DxjsWNO5vhdm"
      },
      "execution_count": null,
      "outputs": []
    },
    {
      "cell_type": "markdown",
      "source": [
        "###Hola"
      ],
      "metadata": {
        "id": "RyHmVwbiunrD"
      }
    },
    {
      "cell_type": "code",
      "source": [],
      "metadata": {
        "id": "eaV0raZUujFp"
      },
      "execution_count": null,
      "outputs": []
    }
  ]
}