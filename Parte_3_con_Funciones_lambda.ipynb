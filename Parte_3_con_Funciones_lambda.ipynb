{
  "nbformat": 4,
  "nbformat_minor": 0,
  "metadata": {
    "colab": {
      "provenance": [],
      "authorship_tag": "ABX9TyNhVAqbeAmIUJhB2G9Jf8jm",
      "include_colab_link": true
    },
    "kernelspec": {
      "name": "python3",
      "display_name": "Python 3"
    },
    "language_info": {
      "name": "python"
    }
  },
  "cells": [
    {
      "cell_type": "markdown",
      "metadata": {
        "id": "view-in-github",
        "colab_type": "text"
      },
      "source": [
        "<a href=\"https://colab.research.google.com/github/jpineda714/CIENCIA_DATOS_2025/blob/main/Parte_3_con_Funciones_lambda.ipynb\" target=\"_parent\"><img src=\"https://colab.research.google.com/assets/colab-badge.svg\" alt=\"Open In Colab\"/></a>"
      ]
    },
    {
      "cell_type": "markdown",
      "source": [
        "# PARTE 3"
      ],
      "metadata": {
        "id": "-IBT8SXox1s4"
      }
    },
    {
      "cell_type": "markdown",
      "source": [
        "## 1. Crea una función que reciba un número y retorne su cuadrado.\n",
        "\n"
      ],
      "metadata": {
        "id": "BVjwfcIxx5SE"
      }
    },
    {
      "cell_type": "code",
      "source": [
        "def cuadrado(numero):\n",
        "    return numero ** 2\n",
        "\n",
        "n = float(input(\"Ingrese un número: \"))\n",
        "print(\"El cuadrado es:\", cuadrado(n))"
      ],
      "metadata": {
        "colab": {
          "base_uri": "https://localhost:8080/"
        },
        "id": "VemldY0Xzal2",
        "outputId": "498a132f-2ae8-434e-c938-24eb14d7643f"
      },
      "execution_count": null,
      "outputs": [
        {
          "output_type": "stream",
          "name": "stdout",
          "text": [
            "Ingrese un número: 45\n",
            "El cuadrado es: 2025.0\n"
          ]
        }
      ]
    },
    {
      "cell_type": "code",
      "source": [
        "#lambda\n",
        "cuadrado = lambda x: x ** 2\n",
        "n = float(input(\"Ingrese un número: \"))\n",
        "print(\"El cuadrado es:\", cuadrado(n))\n"
      ],
      "metadata": {
        "id": "q7fRm_pSIKTJ"
      },
      "execution_count": null,
      "outputs": []
    },
    {
      "cell_type": "markdown",
      "source": [
        "## 2. Crea una función que reciba un nombre y retorne un saludo personalizado (ese saludo debe ser aleatorio. Para ello, genere al menos 20 saludos).\n",
        "\n"
      ],
      "metadata": {
        "id": "sQfO8Zcqym47"
      }
    },
    {
      "cell_type": "code",
      "source": [
        "import random\n",
        "def saludo_personalizado(nombre):\n",
        "    saludos = [\n",
        "        \"¡Hola\", \"¡Buen día\", \"¡Qué gusto verte\", \"¡Hola de nuevo\", \"¡Hey\",\n",
        "        \"¡Saludos\", \"¡Qué alegría verte\", \"¡Bienvenido\", \"¡Qué tal\", \"¡Hola hola\",\n",
        "        \"¡Mucho gusto\", \"¡Un placer verte\", \"¡Qué milagro\", \"¡Encantado de verte\",\n",
        "        \"¡Qué sorpresa\", \"¡Me alegra verte\", \"¡Hola estimado\", \"¡Hola querido\",\n",
        "        \"¡Hola amigo\", \"¡Buen verte\"\n",
        "    ]\n",
        "    return f\"{random.choice(saludos)}, {nombre}!\"\n",
        "\n",
        "nombre = input(\"Ingrese su nombre: \")\n",
        "print(saludo_personalizado(nombre))"
      ],
      "metadata": {
        "colab": {
          "base_uri": "https://localhost:8080/"
        },
        "id": "ipcXV6NyzbE4",
        "outputId": "4f0766f1-cbe0-4182-82b2-a92caae341e3"
      },
      "execution_count": null,
      "outputs": [
        {
          "output_type": "stream",
          "name": "stdout",
          "text": [
            "Ingrese su nombre: johan\n",
            "¡Qué tal, johan!\n"
          ]
        }
      ]
    },
    {
      "cell_type": "code",
      "source": [
        "#lambda\n",
        "import random\n",
        "saludo_personalizado = lambda nombre: f\"{random.choice([\n",
        "    '¡Hola', '¡Buen día', '¡Qué gusto verte', '¡Hola de nuevo', '¡Hey',\n",
        "    '¡Saludos', '¡Qué alegría verte', '¡Bienvenido', '¡Qué tal', '¡Hola hola',\n",
        "    '¡Mucho gusto', '¡Un placer verte', '¡Qué milagro', '¡Encantado de verte',\n",
        "    '¡Qué sorpresa', '¡Me alegra verte', '¡Hola estimado', '¡Hola querido',\n",
        "    '¡Hola amigo', '¡Buen verte'])}, {nombre}!\"\n",
        "\n",
        "nombre = input(\"Ingrese su nombre: \")\n",
        "print(saludo_personalizado(nombre))\n"
      ],
      "metadata": {
        "colab": {
          "base_uri": "https://localhost:8080/"
        },
        "id": "Vq_rJkYnIN4v",
        "outputId": "8547ef21-bd4c-424c-ca48-1da2a7a6eba3"
      },
      "execution_count": 1,
      "outputs": [
        {
          "output_type": "stream",
          "name": "stdout",
          "text": [
            "Ingrese su nombre: johan\n",
            "¡Hey, johan!\n"
          ]
        }
      ]
    },
    {
      "cell_type": "markdown",
      "source": [
        "## 3. Crea una función que reciba dos números y retorne su suma, resta, multiplicación y división.\n"
      ],
      "metadata": {
        "id": "Egz6NemYyvPo"
      }
    },
    {
      "cell_type": "code",
      "source": [
        "def operaciones(a, b):\n",
        "    if b != 0:\n",
        "        return a + b, a - b, a * b, a / b\n",
        "    else:\n",
        "        return a + b, a - b, a * b, None\n",
        "\n",
        "a = float(input(\"Ingrese el primer número: \"))\n",
        "b = float(input(\"Ingrese el segundo número: \"))\n",
        "res = operaciones(a, b)\n",
        "print(\"Suma:\", res[0], \"Resta:\", res[1], \"Multiplicación:\", res[2], \"División:\", res[3])"
      ],
      "metadata": {
        "colab": {
          "base_uri": "https://localhost:8080/"
        },
        "id": "R3miGxZbzbuC",
        "outputId": "1c07b8c5-9323-4967-aadb-e4c016aac058"
      },
      "execution_count": null,
      "outputs": [
        {
          "output_type": "stream",
          "name": "stdout",
          "text": [
            "Ingrese el primer número: 4\n",
            "Ingrese el segundo número: 5\n",
            "Suma: 9.0 Resta: -1.0 Multiplicación: 20.0 División: 0.8\n"
          ]
        }
      ]
    },
    {
      "cell_type": "code",
      "source": [
        "#lambda\n",
        "operaciones = lambda a, b: (a + b, a - b, a * b, a / b if b != 0 else None)\n",
        "\n",
        "a = float(input(\"Ingrese el primer número: \"))\n",
        "b = float(input(\"Ingrese el segundo número: \"))\n",
        "res = operaciones(a, b)\n",
        "print(\"Suma:\", res[0], \"Resta:\", res[1], \"Multiplicación:\", res[2], \"División:\", res[3])\n"
      ],
      "metadata": {
        "id": "GC569PMbIQB_"
      },
      "execution_count": null,
      "outputs": []
    },
    {
      "cell_type": "markdown",
      "source": [
        "## 4. Crea una función que reciba una edad y retorne si es mayor de edad.\n"
      ],
      "metadata": {
        "id": "jRPl992WyvHN"
      }
    },
    {
      "cell_type": "code",
      "source": [
        "def es_mayor_edad(edad):\n",
        "    return edad >= 18\n",
        "\n",
        "edad = int(input(\"Ingrese su edad: \"))\n",
        "print(\"Mayor de edad\" if es_mayor_edad(edad) else \"Menor de edad\")"
      ],
      "metadata": {
        "colab": {
          "base_uri": "https://localhost:8080/"
        },
        "id": "QUjBSeebzcCH",
        "outputId": "d28cb1f0-c5f0-44ec-c2ab-a9b18fd92583"
      },
      "execution_count": null,
      "outputs": [
        {
          "output_type": "stream",
          "name": "stdout",
          "text": [
            "Ingrese su edad: 45\n",
            "Mayor de edad\n"
          ]
        }
      ]
    },
    {
      "cell_type": "code",
      "source": [
        "#lambda\n",
        "es_mayor_edad = lambda edad: edad >= 18\n",
        "edad = int(input(\"Ingrese su edad: \"))\n",
        "print(\"Mayor de edad\" if es_mayor_edad(edad) else \"Menor de edad\")\n"
      ],
      "metadata": {
        "id": "H98NS7zuIRv2"
      },
      "execution_count": null,
      "outputs": []
    },
    {
      "cell_type": "markdown",
      "source": [
        "## 5. Crea una función que reciba una palabra y determine si es un palíndromo.\n"
      ],
      "metadata": {
        "id": "4prqVhAgyu-m"
      }
    },
    {
      "cell_type": "code",
      "source": [
        "def es_palindromo(palabra):\n",
        "    palabra = palabra.lower().replace(\" \", \"\")\n",
        "    return palabra == palabra[::-1]\n",
        "\n",
        "palabra = input(\"Ingrese una palabra: \")\n",
        "print(\"Es palíndromo\" if es_palindromo(palabra) else \"No es palíndromo\")"
      ],
      "metadata": {
        "colab": {
          "base_uri": "https://localhost:8080/"
        },
        "id": "F4nrwxWvzcYV",
        "outputId": "7e959cc0-5e29-4d0e-b783-98fa1dfbb177"
      },
      "execution_count": null,
      "outputs": [
        {
          "output_type": "stream",
          "name": "stdout",
          "text": [
            "Ingrese una palabra: ayuda\n",
            "No es palíndromo\n"
          ]
        }
      ]
    },
    {
      "cell_type": "code",
      "source": [
        "#lambda\n",
        "es_palindromo = lambda palabra: palabra.lower().replace(\" \", \"\") == palabra.lower().replace(\" \", \"\")[::-1]\n",
        "palabra = input(\"Ingrese una palabra: \")\n",
        "print(\"Es palíndromo\" if es_palindromo(palabra) else \"No es palíndromo\")\n"
      ],
      "metadata": {
        "id": "kiTuSWXpIT5f"
      },
      "execution_count": null,
      "outputs": []
    },
    {
      "cell_type": "markdown",
      "source": [
        "## 6. Crea una función que reciba un texto y retorne cuántas vocales contiene.\n"
      ],
      "metadata": {
        "id": "i64pNeU-yu2i"
      }
    },
    {
      "cell_type": "code",
      "source": [
        "def contar_vocales(texto):\n",
        "    texto = texto.lower()\n",
        "    vocales = \"aeiouáéíóú\"\n",
        "    contador = 0\n",
        "    for letra in texto:\n",
        "        if letra in vocales:\n",
        "            contador += 1\n",
        "    return contador\n",
        "\n",
        "texto = input(\"Ingrese un texto: \")\n",
        "print(\"Cantidad de vocales:\", contar_vocales(texto))"
      ],
      "metadata": {
        "colab": {
          "base_uri": "https://localhost:8080/"
        },
        "id": "punM3CDbzc9Z",
        "outputId": "a4560d2c-a16c-4a4e-dee3-c3d38a800f6f"
      },
      "execution_count": null,
      "outputs": [
        {
          "output_type": "stream",
          "name": "stdout",
          "text": [
            "Ingrese un texto: ayuda\n",
            "Cantidad de vocales: 3\n"
          ]
        }
      ]
    },
    {
      "cell_type": "code",
      "source": [
        "#lambda\n",
        "contar_vocales = lambda texto: sum(1 for c in texto.lower() if c in \"aeiouáéíóú\")\n",
        "texto = input(\"Ingrese un texto: \")\n",
        "print(\"Cantidad de vocales:\", contar_vocales(texto))\n"
      ],
      "metadata": {
        "id": "Bi7j0ToTIWL-"
      },
      "execution_count": null,
      "outputs": []
    },
    {
      "cell_type": "markdown",
      "source": [
        "## 7. Crea una función que reciba una lista de números y retorne la suma total.\n"
      ],
      "metadata": {
        "id": "cutsquFMyuuW"
      }
    },
    {
      "cell_type": "code",
      "source": [
        "def suma_lista(lista):\n",
        "    return sum(lista)\n",
        "\n",
        "lista = [float(input(f\"Ingrese número {i+1}: \")) for i in range(5)]\n",
        "print(\"Suma total:\", suma_lista(lista))"
      ],
      "metadata": {
        "colab": {
          "base_uri": "https://localhost:8080/"
        },
        "id": "348Gm3cxzdfa",
        "outputId": "4cf06b61-1633-4714-f26f-7c4f84ecd4dd"
      },
      "execution_count": null,
      "outputs": [
        {
          "output_type": "stream",
          "name": "stdout",
          "text": [
            "Ingrese número 1: 49\n",
            "Ingrese número 2: 4\n",
            "Ingrese número 3: 56\n",
            "Ingrese número 4: 45\n",
            "Ingrese número 5: 45\n",
            "Suma total: 199.0\n"
          ]
        }
      ]
    },
    {
      "cell_type": "code",
      "source": [
        "#lambda\n",
        "suma_lista = lambda lista: sum(lista)\n",
        "lista = [float(input(f\"Ingrese número {i+1}: \")) for i in range(5)]\n",
        "print(\"Suma total:\", suma_lista(lista))\n"
      ],
      "metadata": {
        "id": "DAI_j-j-IX3e"
      },
      "execution_count": null,
      "outputs": []
    },
    {
      "cell_type": "markdown",
      "source": [
        "## 8. Crea una función que reciba una lista y retorne el mayor y el menor elemento.\n"
      ],
      "metadata": {
        "id": "91P2S7fjyulz"
      }
    },
    {
      "cell_type": "code",
      "source": [
        "def mayor_menor(lista):\n",
        "    return max(lista), min(lista)\n",
        "\n",
        "lista = [float(input(f\"Ingrese número {i+1}: \")) for i in range(5)]\n",
        "mayor, menor = mayor_menor(lista)\n",
        "print(\"Mayor:\", mayor, \"Menor:\", menor)"
      ],
      "metadata": {
        "colab": {
          "base_uri": "https://localhost:8080/"
        },
        "id": "53mgDnr9zd_w",
        "outputId": "ff3be07a-8d7c-45cf-f0e5-8ab339fa6b55"
      },
      "execution_count": null,
      "outputs": [
        {
          "output_type": "stream",
          "name": "stdout",
          "text": [
            "Ingrese número 1: 4\n",
            "Ingrese número 2: 45\n",
            "Ingrese número 3: 78\n",
            "Ingrese número 4: 12\n",
            "Ingrese número 5: 23\n",
            "Mayor: 78.0 Menor: 4.0\n"
          ]
        }
      ]
    },
    {
      "cell_type": "code",
      "source": [
        "#lambda\n",
        "mayor_menor = lambda lista: (max(lista), min(lista))\n",
        "lista = [float(input(f\"Ingrese número {i+1}: \")) for i in range(5)]\n",
        "mayor, menor = mayor_menor(lista)\n",
        "print(\"Mayor:\", mayor, \"Menor:\", menor)\n"
      ],
      "metadata": {
        "id": "BgH5ZokMIZyi"
      },
      "execution_count": null,
      "outputs": []
    },
    {
      "cell_type": "markdown",
      "source": [
        "## 9. Crea una función que reciba una lista y retorne una nueva lista con los elementos en orden inverso.\n"
      ],
      "metadata": {
        "id": "Gb0DWpgQyudQ"
      }
    },
    {
      "cell_type": "code",
      "source": [
        "def invertir_lista(lista):\n",
        "    return lista[::-1]\n",
        "\n",
        "lista = [input(f\"Ingrese elemento {i+1}: \") for i in range(5)]\n",
        "print(\"Lista invertida:\", invertir_lista(lista))"
      ],
      "metadata": {
        "colab": {
          "base_uri": "https://localhost:8080/"
        },
        "id": "-rTeoRWkzebR",
        "outputId": "5f53ca03-8d69-47f8-aec4-1c5a8ed9ca36"
      },
      "execution_count": null,
      "outputs": [
        {
          "output_type": "stream",
          "name": "stdout",
          "text": [
            "Ingrese elemento 1: 4\n",
            "Ingrese elemento 2: 78\n",
            "Ingrese elemento 3: 45\n",
            "Ingrese elemento 4: 12\n",
            "Ingrese elemento 5: 23\n",
            "Lista invertida: ['23', '12', '45', '78', '4']\n"
          ]
        }
      ]
    },
    {
      "cell_type": "code",
      "source": [
        "#lambda\n",
        "invertir_lista = lambda lista: lista[::-1]\n",
        "lista = [input(f\"Ingrese elemento {i+1}: \") for i in range(5)]\n",
        "print(\"Lista invertida:\", invertir_lista(lista))\n"
      ],
      "metadata": {
        "id": "LmxQI05rIbvG"
      },
      "execution_count": null,
      "outputs": []
    },
    {
      "cell_type": "markdown",
      "source": [
        "## 10. Crea una función que reciba una lista de nombres y retorne cuántos nombres comienzan con vocal."
      ],
      "metadata": {
        "id": "voCqQVGyyuUy"
      }
    },
    {
      "cell_type": "code",
      "source": [
        "def nombres_con_vocal(lista_nombres):\n",
        "    vocales = \"aeiouáéíóú\"\n",
        "    contador = 0\n",
        "    for nombre in lista_nombres:\n",
        "        if nombre and nombre[0].lower() in vocales:\n",
        "            contador += 1\n",
        "    return contador\n",
        "\n",
        "nombres = [input(f\"Ingrese nombre {i+1}: \") for i in range(5)]\n",
        "print(\"Cantidad que empiezan con vocal:\", nombres_con_vocal(nombres))"
      ],
      "metadata": {
        "colab": {
          "base_uri": "https://localhost:8080/"
        },
        "id": "UooZ5VnXze6F",
        "outputId": "7b87ec22-465b-430d-e4df-88d46e410e7f"
      },
      "execution_count": null,
      "outputs": [
        {
          "output_type": "stream",
          "name": "stdout",
          "text": [
            "Ingrese nombre 1: johan\n",
            "Ingrese nombre 2: ana\n",
            "Ingrese nombre 3: luz\n",
            "Ingrese nombre 4: jose\n",
            "Ingrese nombre 5: anny\n",
            "Cantidad que empiezan con vocal: 2\n"
          ]
        }
      ]
    },
    {
      "cell_type": "code",
      "source": [
        "#lambda\n",
        "nombres_con_vocal = lambda nombres: sum(1 for n in nombres if n and n[0].lower() in \"aeiouáéíóú\")\n",
        "nombres = [input(f\"Ingrese nombre {i+1}: \") for i in range(5)]\n",
        "print(\"Cantidad que empiezan con vocal:\", nombres_con_vocal(nombres))\n"
      ],
      "metadata": {
        "id": "W9NnjE7TIdfW"
      },
      "execution_count": null,
      "outputs": []
    },
    {
      "cell_type": "markdown",
      "source": [
        "## 11. Crea una función que reciba una lista y retorne otra lista sin elementos repetidos.\n"
      ],
      "metadata": {
        "id": "mtRXMcd8yuMT"
      }
    },
    {
      "cell_type": "code",
      "source": [
        "def sin_repetidos(lista):\n",
        "    return list(set(lista))\n",
        "\n",
        "lista = [input(f\"Ingrese elemento {i+1}: \") for i in range(5)]\n",
        "print(\"Lista sin repetidos:\", sin_repetidos(lista))"
      ],
      "metadata": {
        "colab": {
          "base_uri": "https://localhost:8080/"
        },
        "id": "DUmBM2qwzfNT",
        "outputId": "24555122-7a0c-4b4d-a85e-7ea815afb2df"
      },
      "execution_count": null,
      "outputs": [
        {
          "output_type": "stream",
          "name": "stdout",
          "text": [
            "Ingrese elemento 1: \n",
            "Ingrese elemento 2: 2\n",
            "Ingrese elemento 3: 3\n",
            "Ingrese elemento 4: 4\n",
            "Ingrese elemento 5: 4\n",
            "Lista sin repetidos: ['', '2', '3', '4']\n"
          ]
        }
      ]
    },
    {
      "cell_type": "code",
      "source": [
        "#lambda\n",
        "sin_repetidos = lambda lista: list(set(lista))\n",
        "lista = [input(f\"Ingrese elemento {i+1}: \") for i in range(5)]\n",
        "print(\"Lista sin repetidos:\", sin_repetidos(lista))\n"
      ],
      "metadata": {
        "id": "0uWwQz3IIfXo"
      },
      "execution_count": null,
      "outputs": []
    },
    {
      "cell_type": "markdown",
      "source": [
        "## 12. Crea una función que reciba una lista de números y retorne solo los que son primos.\n"
      ],
      "metadata": {
        "id": "EEyNg_Puyt9x"
      }
    },
    {
      "cell_type": "code",
      "source": [
        "def primos_lista(lista):\n",
        "    primos = []\n",
        "    for num in lista:\n",
        "        if num > 1:\n",
        "            es_primo = True\n",
        "            for i in range(2, num):\n",
        "                if num % i == 0:\n",
        "                    es_primo = False\n",
        "                    break\n",
        "            if es_primo:\n",
        "                primos.append(num)\n",
        "    return primos\n",
        "\n",
        "lista = [int(input(f\"Ingrese número {i+1}: \")) for i in range(5)]\n",
        "print(\"Números primos:\", primos_lista(lista))"
      ],
      "metadata": {
        "colab": {
          "base_uri": "https://localhost:8080/"
        },
        "id": "7IrwAO8PzfgV",
        "outputId": "d4709935-0939-4b68-879e-a865c00a996f"
      },
      "execution_count": null,
      "outputs": [
        {
          "output_type": "stream",
          "name": "stdout",
          "text": [
            "Ingrese número 1: 78\n",
            "Ingrese número 2: 45\n",
            "Ingrese número 3: 12\n",
            "Ingrese número 4: 35\n",
            "Ingrese número 5: 65\n",
            "Números primos: []\n"
          ]
        }
      ]
    },
    {
      "cell_type": "code",
      "source": [
        "#lambda\n",
        "es_primo = lambda n: n > 1 and all(n % i != 0 for i in range(2, n))\n",
        "primos_lista = lambda lista: list(filter(es_primo, lista))\n",
        "\n",
        "lista = [int(input(f\"Ingrese número {i+1}: \")) for i in range(5)]\n",
        "print(\"Números primos:\", primos_lista(lista))\n"
      ],
      "metadata": {
        "id": "l3ijVMx6Igtj"
      },
      "execution_count": null,
      "outputs": []
    },
    {
      "cell_type": "markdown",
      "source": [
        "## 13. Crea una función que reciba un diccionario con claves 'nombre' y 'edad', y retorne un mensaje con esos datos.\n"
      ],
      "metadata": {
        "id": "lhj1eECwyt0n"
      }
    },
    {
      "cell_type": "code",
      "source": [
        "def mensaje_persona(dic):\n",
        "    return f\"Nombre: {dic['nombre']}, Edad: {dic['edad']}\"\n",
        "\n",
        "nombre = input(\"Ingrese el nombre: \")\n",
        "edad = int(input(\"Ingrese la edad: \"))\n",
        "print(mensaje_persona({\"nombre\": nombre, \"edad\": edad}))"
      ],
      "metadata": {
        "colab": {
          "base_uri": "https://localhost:8080/"
        },
        "id": "ZwbTyfyPzgMW",
        "outputId": "c7a26ae2-17a4-41f6-b7df-352d954fda85"
      },
      "execution_count": null,
      "outputs": [
        {
          "output_type": "stream",
          "name": "stdout",
          "text": [
            "Ingrese el nombre: johan\n",
            "Ingrese la edad: 22\n",
            "Nombre: johan, Edad: 22\n"
          ]
        }
      ]
    },
    {
      "cell_type": "code",
      "source": [
        "#lambda\n",
        "mensaje_persona = lambda d: f\"Nombre: {d['nombre']}, Edad: {d['edad']}\"\n",
        "nombre = input(\"Ingrese el nombre: \")\n",
        "edad = int(input(\"Ingrese la edad: \"))\n",
        "print(mensaje_persona({\"nombre\": nombre, \"edad\": edad}))\n"
      ],
      "metadata": {
        "id": "4-qz6TpbIiQQ"
      },
      "execution_count": null,
      "outputs": []
    },
    {
      "cell_type": "markdown",
      "source": [
        "## 14. Crea una función que reciba un diccionario de productos (clave: nombre, valor: precio) y retorne el total.\n"
      ],
      "metadata": {
        "id": "-elPq3kxytqj"
      }
    },
    {
      "cell_type": "code",
      "source": [
        "def total_productos(dic):\n",
        "    return sum(dic.values())\n",
        "\n",
        "productos = {}\n",
        "for i in range(3):\n",
        "    prod = input(f\"Ingrese nombre del producto {i+1}: \")\n",
        "    precio = float(input(\"Ingrese precio: \"))\n",
        "    productos[prod] = precio\n",
        "print(\"Total:\", total_productos(productos))"
      ],
      "metadata": {
        "colab": {
          "base_uri": "https://localhost:8080/"
        },
        "id": "fPNzM0ZozgfL",
        "outputId": "577169e5-5f67-4e27-d17c-94c4c0ea35fd"
      },
      "execution_count": null,
      "outputs": [
        {
          "output_type": "stream",
          "name": "stdout",
          "text": [
            "Ingrese nombre del producto 1: tornillo\n",
            "Ingrese precio: 2000\n",
            "Ingrese nombre del producto 2: pala\n",
            "Ingrese precio: 3000\n",
            "Ingrese nombre del producto 3: bombillo\n",
            "Ingrese precio: 2000\n",
            "Total: 7000.0\n"
          ]
        }
      ]
    },
    {
      "cell_type": "code",
      "source": [
        "#lambda\n",
        "total_productos = lambda d: sum(d.values())\n",
        "productos = {input(f\"Producto {i+1}: \"): float(input(\"Precio: \")) for i in range(3)}\n",
        "print(\"Total:\", total_productos(productos))\n"
      ],
      "metadata": {
        "id": "wX4HmOC4IkDO"
      },
      "execution_count": null,
      "outputs": []
    },
    {
      "cell_type": "markdown",
      "source": [
        "## 15. Crea una función que reciba un diccionario de estudiantes (clave: nombre, valor: nota) y retorne el promedio.\n"
      ],
      "metadata": {
        "id": "zo1pY4dWytix"
      }
    },
    {
      "cell_type": "code",
      "source": [
        "def promedio_notas(dic):\n",
        "    return sum(dic.values()) / len(dic) if dic else 0\n",
        "\n",
        "estudiantes = {}\n",
        "for i in range(3):\n",
        "    nom = input(f\"Ingrese nombre del estudiante {i+1}: \")\n",
        "    nota = float(input(\"Ingrese nota: \"))\n",
        "    estudiantes[nom] = nota\n",
        "print(\"Promedio de notas:\", promedio_notas(estudiantes))"
      ],
      "metadata": {
        "colab": {
          "base_uri": "https://localhost:8080/"
        },
        "id": "o66TRhv0zg22",
        "outputId": "c2412ec4-286f-41a4-9bf5-26b437565b98"
      },
      "execution_count": null,
      "outputs": [
        {
          "output_type": "stream",
          "name": "stdout",
          "text": [
            "Ingrese nombre del estudiante 1: mora\n",
            "Ingrese nota: 45\n",
            "Ingrese nombre del estudiante 2: luz\n",
            "Ingrese nota: 90\n",
            "Ingrese nombre del estudiante 3: jose\n",
            "Ingrese nota: 65\n",
            "Promedio de notas: 66.66666666666667\n"
          ]
        }
      ]
    },
    {
      "cell_type": "code",
      "source": [
        "#lambda\n",
        "promedio_notas = lambda d: sum(d.values()) / len(d) if d else 0\n",
        "estudiantes = {input(f\"Estudiante {i+1}: \"): float(input(\"Nota: \")) for i in range(3)}\n",
        "print(\"Promedio de notas:\", promedio_notas(estudiantes))\n"
      ],
      "metadata": {
        "id": "A3JzYl47IlxW"
      },
      "execution_count": null,
      "outputs": []
    },
    {
      "cell_type": "markdown",
      "source": [
        "## 16. Crea una función que reciba un diccionario y un nombre, y retorne la nota si existe o 'no encontrado'.\n"
      ],
      "metadata": {
        "id": "Ni5aWke9yta_"
      }
    },
    {
      "cell_type": "code",
      "source": [
        "def buscar_nota(dic, nombre):\n",
        "    return dic.get(nombre, \"no encontrado\")\n",
        "\n",
        "nombre_buscar = input(\"Ingrese nombre del estudiante a buscar: \")\n",
        "print(\"Resultado:\", buscar_nota(estudiantes, nombre_buscar))"
      ],
      "metadata": {
        "colab": {
          "base_uri": "https://localhost:8080/"
        },
        "id": "AJii1AuvzhVF",
        "outputId": "97558b55-390b-4157-c6b8-96cea1a2a167"
      },
      "execution_count": null,
      "outputs": [
        {
          "output_type": "stream",
          "name": "stdout",
          "text": [
            "Ingrese nombre del estudiante a buscar: johan\n",
            "Resultado: no encontrado\n"
          ]
        }
      ]
    },
    {
      "cell_type": "code",
      "source": [
        "#lambda\n",
        "buscar_nota = lambda d, nombre: d.get(nombre, \"no encontrado\")\n",
        "nombre_buscar = input(\"Nombre a buscar: \")\n",
        "print(\"Resultado:\", buscar_nota(estudiantes, nombre_buscar))\n"
      ],
      "metadata": {
        "id": "qfssqfCIInau"
      },
      "execution_count": null,
      "outputs": []
    },
    {
      "cell_type": "markdown",
      "source": [
        "## 17. Crea una función que reciba un diccionario y retorne el nombre del estudiante con mayor nota.\n"
      ],
      "metadata": {
        "id": "dxPRYZUJytRy"
      }
    },
    {
      "cell_type": "code",
      "source": [
        "def estudiante_mejor_nota(dic):\n",
        "    return max(dic, key=dic.get) if dic else None\n",
        "\n",
        "print(\"Estudiante con mejor nota:\", estudiante_mejor_nota(estudiantes))"
      ],
      "metadata": {
        "colab": {
          "base_uri": "https://localhost:8080/"
        },
        "id": "ioB8fUjlzhyP",
        "outputId": "5e489a3e-af23-4daa-a993-2ddf42b808ed"
      },
      "execution_count": null,
      "outputs": [
        {
          "output_type": "stream",
          "name": "stdout",
          "text": [
            "Estudiante con mejor nota: luz\n"
          ]
        }
      ]
    },
    {
      "cell_type": "code",
      "source": [
        "#lambda\n",
        "estudiante_mejor_nota = lambda d: max(d, key=d.get) if d else None\n",
        "print(\"Estudiante con mejor nota:\", estudiante_mejor_nota(estudiantes))\n"
      ],
      "metadata": {
        "id": "vDJXpJexIpJO"
      },
      "execution_count": null,
      "outputs": []
    },
    {
      "cell_type": "markdown",
      "source": [
        "## 18. Crea una función que reciba un diccionario de productos y retorne los productos con precios mayores a un valor dado.\n"
      ],
      "metadata": {
        "id": "Jq9Kw_MxytIm"
      }
    },
    {
      "cell_type": "code",
      "source": [
        "def productos_mayores(dic, valor):\n",
        "    return {k: v for k, v in dic.items() if v > valor}\n",
        "\n",
        "valor = float(input(\"Ingrese valor mínimo: \"))\n",
        "print(\"Productos mayores:\", productos_mayores(productos, valor))"
      ],
      "metadata": {
        "colab": {
          "base_uri": "https://localhost:8080/"
        },
        "id": "5XqXW0kozicb",
        "outputId": "36b12b0a-c5ed-4552-db5d-0aeeb69b3d4d"
      },
      "execution_count": null,
      "outputs": [
        {
          "output_type": "stream",
          "name": "stdout",
          "text": [
            "Ingrese valor mínimo: 23\n",
            "Productos mayores: {'tornillo': 2000.0, 'pala': 3000.0, 'bombillo': 2000.0}\n"
          ]
        }
      ]
    },
    {
      "cell_type": "code",
      "source": [
        "#lambda\n",
        "productos_mayores = lambda d, val: {k: v for k, v in d.items() if v > val}\n",
        "valor = float(input(\"Valor mínimo: \"))\n",
        "print(\"Productos mayores:\", productos_mayores(productos, valor))\n"
      ],
      "metadata": {
        "id": "kkLyGT-OIqzu"
      },
      "execution_count": null,
      "outputs": []
    },
    {
      "cell_type": "markdown",
      "source": [
        "## 19. Crea una función que reciba un diccionario de empleados (clave: nombre, valor: lista de horas trabajadas) y retorne el total de horas por empleado.\n"
      ],
      "metadata": {
        "id": "Id3ION8Hys-Y"
      }
    },
    {
      "cell_type": "code",
      "source": [
        "def total_horas(dic):\n",
        "    return {empleado: sum(horas) for empleado, horas in dic.items()}\n",
        "\n",
        "empleados = {}\n",
        "for i in range(2):\n",
        "    emp = input(f\"Ingrese nombre del empleado {i+1}: \")\n",
        "    horas = [int(input(f\"Ingrese horas trabajadas día {j+1}: \")) for j in range(3)]\n",
        "    empleados[emp] = horas\n",
        "print(\"Total de horas:\", total_horas(empleados))"
      ],
      "metadata": {
        "colab": {
          "base_uri": "https://localhost:8080/"
        },
        "id": "3k9ZHAQ9zi1k",
        "outputId": "3a63da58-ba3d-4d08-a1bf-80ec5add59c7"
      },
      "execution_count": null,
      "outputs": [
        {
          "output_type": "stream",
          "name": "stdout",
          "text": [
            "Ingrese nombre del empleado 1: roberto\n",
            "Ingrese horas trabajadas día 1: 5\n",
            "Ingrese horas trabajadas día 2: 4\n",
            "Ingrese horas trabajadas día 3: 6\n",
            "Ingrese nombre del empleado 2: alirio\n",
            "Ingrese horas trabajadas día 1: 3\n",
            "Ingrese horas trabajadas día 2: 4\n",
            "Ingrese horas trabajadas día 3: 5\n",
            "Total de horas: {'roberto': 15, 'alirio': 12}\n"
          ]
        }
      ]
    },
    {
      "cell_type": "code",
      "source": [
        "#lambda\n",
        "total_horas = lambda d: {emp: sum(horas) for emp, horas in d.items()}\n",
        "empleados = {input(f\"Empleado {i+1}: \"): [int(input(f\"Horas día {j+1}: \")) for j in range(3)] for i in range(2)}\n",
        "print(\"Total de horas:\", total_horas(empleados))\n"
      ],
      "metadata": {
        "id": "VIE8_FvHIsX5"
      },
      "execution_count": null,
      "outputs": []
    },
    {
      "cell_type": "markdown",
      "source": [
        "## 20. Crea una función que reciba un diccionario anidado con datos de estudiantes (nombre  {'nota': x, 'edad': y}) y retorne el promedio de notas de los mayores de edad."
      ],
      "metadata": {
        "id": "aoWKmUkryszC"
      }
    },
    {
      "cell_type": "code",
      "source": [
        "def promedio_mayores(dic):\n",
        "    notas = [datos['nota'] for datos in dic.values() if datos['edad'] >= 18]\n",
        "    return sum(notas) / len(notas) if notas else 0\n",
        "\n",
        "estudiantes_datos = {}\n",
        "for i in range(3):\n",
        "    nom = input(f\"Ingrese nombre del estudiante {i+1}: \")\n",
        "    nota = float(input(\"Ingrese nota: \"))\n",
        "    edad = int(input(\"Ingrese edad: \"))\n",
        "    estudiantes_datos[nom] = {\"nota\": nota, \"edad\": edad}\n",
        "print(\"Promedio de notas de mayores de edad:\", promedio_mayores(estudiantes_datos))"
      ],
      "metadata": {
        "colab": {
          "base_uri": "https://localhost:8080/"
        },
        "id": "QweVsnlMzjMQ",
        "outputId": "a954a96a-ef4f-45de-c3d8-a29e2ae9bd6c"
      },
      "execution_count": null,
      "outputs": [
        {
          "output_type": "stream",
          "name": "stdout",
          "text": [
            "Ingrese nombre del estudiante 1: sebas\n",
            "Ingrese nota: 56\n",
            "Ingrese edad: 20\n",
            "Ingrese nombre del estudiante 2: luis\n",
            "Ingrese nota: 70\n",
            "Ingrese edad: 23\n",
            "Ingrese nombre del estudiante 3: angel\n",
            "Ingrese nota: 80\n",
            "Ingrese edad: 21\n",
            "Promedio de notas de mayores de edad: 68.66666666666667\n"
          ]
        }
      ]
    },
    {
      "cell_type": "code",
      "source": [
        "#lambda\n",
        "promedio_mayores = lambda d: sum(v['nota'] for v in d.values() if v['edad'] >= 18) / \\\n",
        "                              sum(1 for v in d.values() if v['edad'] >= 18) if d else 0\n",
        "estudiantes_datos = {input(f\"Estudiante {i+1}: \"): {\n",
        "    \"nota\": float(input(\"Nota: \")), \"edad\": int(input(\"Edad: \"))\n",
        "    } for i in range(3)}\n",
        "print(\"Promedio de mayores:\", promedio_mayores(estudiantes_datos))\n"
      ],
      "metadata": {
        "id": "kc35md4kIt32"
      },
      "execution_count": null,
      "outputs": []
    }
  ]
}