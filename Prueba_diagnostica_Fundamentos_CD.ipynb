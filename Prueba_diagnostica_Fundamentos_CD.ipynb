{
  "nbformat": 4,
  "nbformat_minor": 0,
  "metadata": {
    "colab": {
      "provenance": [],
      "toc_visible": true,
      "authorship_tag": "ABX9TyOSUuZZ56Dx8EoFdNeVXL3y",
      "include_colab_link": true
    },
    "kernelspec": {
      "name": "python3",
      "display_name": "Python 3"
    },
    "language_info": {
      "name": "python"
    }
  },
  "cells": [
    {
      "cell_type": "markdown",
      "metadata": {
        "id": "view-in-github",
        "colab_type": "text"
      },
      "source": [
        "<a href=\"https://colab.research.google.com/github/jpineda714/CIENCIA_DATOS_2025/blob/main/Prueba_diagnostica_Fundamentos_CD.ipynb\" target=\"_parent\"><img src=\"https://colab.research.google.com/assets/colab-badge.svg\" alt=\"Open In Colab\"/></a>"
      ]
    },
    {
      "cell_type": "markdown",
      "source": [
        "# PARTE 1\n"
      ],
      "metadata": {
        "id": "PMb4QNHso6ef"
      }
    },
    {
      "cell_type": "markdown",
      "source": [
        "## 1. Escribe un programa que reciba un número e indique si es positivo.\n"
      ],
      "metadata": {
        "id": "E6WhOjZCpDWz"
      }
    },
    {
      "cell_type": "code",
      "execution_count": 2,
      "metadata": {
        "colab": {
          "base_uri": "https://localhost:8080/"
        },
        "id": "kUMt0YpgoB09",
        "outputId": "752ebe98-4f3d-4d8a-a3a3-5f32ead5789b"
      },
      "outputs": [
        {
          "output_type": "stream",
          "name": "stdout",
          "text": [
            "Ingrese un número: -4\n",
            "El número no es positivo.\n"
          ]
        }
      ],
      "source": [
        "numero = float(input(\"Ingrese un número: \"))\n",
        "\n",
        "if numero > 0:\n",
        "    print(\"El número es positivo.\")\n",
        "else:\n",
        "    print(\"El número no es positivo.\")\n"
      ]
    },
    {
      "cell_type": "markdown",
      "source": [
        "## 2. Escribe un programa que reciba una edad y determine si la persona es mayor de edad\n"
      ],
      "metadata": {
        "id": "wHXsSoncpYHN"
      }
    },
    {
      "cell_type": "code",
      "source": [
        "edad = int(input(\"Ingrese su edad: \"))\n",
        "\n",
        "if edad >= 18:\n",
        "    print(\"Eres mayor de edad.\")\n",
        "else:\n",
        "    print(\"Eres menor de edad.\")"
      ],
      "metadata": {
        "colab": {
          "base_uri": "https://localhost:8080/"
        },
        "id": "mg9H4bn2qFeA",
        "outputId": "b9951dca-143d-440f-fc27-d8c545a81fa5"
      },
      "execution_count": 4,
      "outputs": [
        {
          "output_type": "stream",
          "name": "stdout",
          "text": [
            "Ingrese su edad: 11\n",
            "Eres menor de edad.\n"
          ]
        }
      ]
    },
    {
      "cell_type": "markdown",
      "source": [
        "## 3. Escribe un programa que reciba dos números e imprima el mayor.\n"
      ],
      "metadata": {
        "id": "uMSkrJVkpX_n"
      }
    },
    {
      "cell_type": "code",
      "source": [
        "num1 = float(input(\"Ingrese el primer número: \"))\n",
        "num2 = float(input(\"Ingrese el segundo número: \"))\n",
        "\n",
        "if num1 > num2:\n",
        "    print(\"El mayor es:\", num1)\n",
        "elif num2 > num1:\n",
        "    print(\"El mayor es:\", num2)\n",
        "else:\n",
        "    print(\"Ambos números son iguales.\")"
      ],
      "metadata": {
        "colab": {
          "base_uri": "https://localhost:8080/"
        },
        "id": "xzGs49JdqF-t",
        "outputId": "eb318a0f-91fe-49da-ac63-96300d3dc4aa"
      },
      "execution_count": 5,
      "outputs": [
        {
          "output_type": "stream",
          "name": "stdout",
          "text": [
            "Ingrese el primer número: 1\n",
            "Ingrese el segundo número: 56\n",
            "El mayor es: 56.0\n"
          ]
        }
      ]
    },
    {
      "cell_type": "markdown",
      "source": [
        "## 4. Escribe un programa que reciba una calificación (0-100) e indique si es Aprobado (>=60) o Reprobado.\n"
      ],
      "metadata": {
        "id": "gj8JbzIrpX4H"
      }
    },
    {
      "cell_type": "code",
      "source": [
        "calificacion = float(input(\"Ingrese la calificación (0-100): \"))\n",
        "\n",
        "if calificacion >= 60:\n",
        "    print(\"Aprobado\")\n",
        "else:\n",
        "    print(\"Reprobado\")"
      ],
      "metadata": {
        "colab": {
          "base_uri": "https://localhost:8080/"
        },
        "id": "rN5OQH1yqGtr",
        "outputId": "e6362cbd-f337-48ac-f379-1205cc935a76"
      },
      "execution_count": 7,
      "outputs": [
        {
          "output_type": "stream",
          "name": "stdout",
          "text": [
            "Ingrese la calificación (0-100): 50\n",
            "Reprobado\n"
          ]
        }
      ]
    },
    {
      "cell_type": "markdown",
      "source": [
        "## 5. Escribe un programa que determine si un número es par o impar.\n"
      ],
      "metadata": {
        "id": "yL7zsWvXpXw_"
      }
    },
    {
      "cell_type": "code",
      "source": [
        "numero = int(input(\"Ingrese un número: \"))\n",
        "\n",
        "if numero % 2 == 0:\n",
        "    print(\"El número es par.\")\n",
        "else:\n",
        "    print(\"El número es impar.\")\n"
      ],
      "metadata": {
        "colab": {
          "base_uri": "https://localhost:8080/"
        },
        "id": "y9BTDuUVqHSN",
        "outputId": "713bc222-98ca-466c-b8d4-67aae5071bd2"
      },
      "execution_count": 9,
      "outputs": [
        {
          "output_type": "stream",
          "name": "stdout",
          "text": [
            "Ingrese un número: 16\n",
            "El número es par.\n"
          ]
        }
      ]
    },
    {
      "cell_type": "markdown",
      "source": [
        "## 6. Escribe un programa que reciba tres números e imprima el mayor de los tres.\n"
      ],
      "metadata": {
        "id": "Gc1G4_mWpXov"
      }
    },
    {
      "cell_type": "code",
      "source": [
        "num1 = float(input(\"Ingrese el primer número: \"))\n",
        "num2 = float(input(\"Ingrese el segundo número: \"))\n",
        "num3 = float(input(\"Ingrese el tercer número: \"))\n",
        "\n",
        "if num1 >= num2 and num1 >= num3:\n",
        "    print(\"El mayor es:\", num1)\n",
        "elif num2 >= num1 and num2 >= num3:\n",
        "    print(\"El mayor es:\", num2)\n",
        "else:\n",
        "    print(\"El mayor es:\", num3)"
      ],
      "metadata": {
        "colab": {
          "base_uri": "https://localhost:8080/"
        },
        "id": "olujGSmUqHwv",
        "outputId": "d284cf8a-4812-4b7f-ad36-d5656f431928"
      },
      "execution_count": 10,
      "outputs": [
        {
          "output_type": "stream",
          "name": "stdout",
          "text": [
            "Ingrese el primer número: 15\n",
            "Ingrese el segundo número: 16\n",
            "Ingrese el tercer número: 58\n",
            "El mayor es: 58.0\n"
          ]
        }
      ]
    },
    {
      "cell_type": "markdown",
      "source": [
        "## 7. Escribe un programa que reciba un año e indique si es bisiesto.\n"
      ],
      "metadata": {
        "id": "VJoPaeuLpXhE"
      }
    },
    {
      "cell_type": "code",
      "source": [
        "ano = int(input(\"Ingrese un año: \"))\n",
        "\n",
        "if (ano % 4 == 0 and ano % 100 != 0) or (ano % 400 == 0):\n",
        "    print(\"El año es bisiesto.\")\n",
        "else:\n",
        "    print(\"El año no es bisiesto.\")\n"
      ],
      "metadata": {
        "colab": {
          "base_uri": "https://localhost:8080/"
        },
        "id": "KsjD3Ln3qIN-",
        "outputId": "917b69fb-41a3-459b-d0d8-1fb31ff3b460"
      },
      "execution_count": 11,
      "outputs": [
        {
          "output_type": "stream",
          "name": "stdout",
          "text": [
            "Ingrese un año: 2003\n",
            "El año no es bisiesto.\n"
          ]
        }
      ]
    },
    {
      "cell_type": "markdown",
      "source": [
        "## 8. Escribe un programa que reciba una contraseña e indique si cumple con las siguientes reglas: más de 8 caracteres, contiene al menos un número y una letra mayúscula.\n"
      ],
      "metadata": {
        "id": "ArSxDeKMpXYz"
      }
    },
    {
      "cell_type": "code",
      "source": [
        "contraseña = input(\"Ingrese una contraseña: \")\n",
        "\n",
        "# Verificar longitud\n",
        "tiene_longitud = len(contraseña) > 8\n",
        "\n",
        "tiene_numero = False\n",
        "for caracter in contraseña:\n",
        "    if caracter.isdigit():\n",
        "        tiene_numero = True\n",
        "        break\n",
        "\n",
        "tiene_mayuscula = False\n",
        "for caracter in contraseña:\n",
        "    if caracter.isupper():\n",
        "        tiene_mayuscula = True\n",
        "        break\n",
        "\n",
        "if tiene_longitud and tiene_numero and tiene_mayuscula:\n",
        "    print(\"La contraseña es válida.\")\n",
        "else:\n",
        "    print(\"La contraseña no cumple con los requisitos.\")\n"
      ],
      "metadata": {
        "colab": {
          "base_uri": "https://localhost:8080/"
        },
        "id": "oN0rHAKsqIxz",
        "outputId": "748bf22f-79c1-4e97-b575-4656918d4c5e"
      },
      "execution_count": 20,
      "outputs": [
        {
          "output_type": "stream",
          "name": "stdout",
          "text": [
            "Ingrese una contraseña: HOLahola123\n",
            "La contraseña es válida.\n"
          ]
        }
      ]
    },
    {
      "cell_type": "markdown",
      "source": [
        "## 9. Escribe un programa que lea un número e imprima “Fizz” si es divisible por 3, “Buzz” si es divisible por 5 y “FizzBuzz” si es divisible por ambos.\n"
      ],
      "metadata": {
        "id": "7OSyH7ygp0vC"
      }
    },
    {
      "cell_type": "code",
      "source": [
        "numero = int(input(\"Ingrese un número: \"))\n",
        "\n",
        "if numero % 3 == 0 and numero % 5 == 0:\n",
        "    print(\"FizzBuzz\")\n",
        "elif numero % 3 == 0:\n",
        "    print(\"Fizz\")\n",
        "elif numero % 5 == 0:\n",
        "    print(\"Buzz\")\n",
        "else:\n",
        "    print(numero)"
      ],
      "metadata": {
        "colab": {
          "base_uri": "https://localhost:8080/"
        },
        "id": "dnO6NdOyqJeC",
        "outputId": "152f4eb8-463b-4834-a986-30029cdcfb85"
      },
      "execution_count": 16,
      "outputs": [
        {
          "output_type": "stream",
          "name": "stdout",
          "text": [
            "Ingrese un número: 16\n",
            "16\n"
          ]
        }
      ]
    },
    {
      "cell_type": "markdown",
      "source": [
        "## 10. Escribe un programa que simule un cajero automático: recibe el monto a retirar e imprime si la operación es posible en base al saldo disponible."
      ],
      "metadata": {
        "id": "SSyq9D_0p0Zd"
      }
    },
    {
      "cell_type": "code",
      "source": [
        "saldo = 1000.0\n",
        "\n",
        "monto = float(input(\"Ingrese el monto a retirar: \"))\n",
        "\n",
        "if monto <= saldo:\n",
        "    print(\"Operación exitosa. Su nuevo saldo es:\", saldo - monto)\n",
        "else:\n",
        "    print(\"Fondos insuficientes. Su saldo disponible es:\", saldo)\n"
      ],
      "metadata": {
        "colab": {
          "base_uri": "https://localhost:8080/"
        },
        "id": "OFniqXDaqJ7C",
        "outputId": "a7cad3f2-fca3-412e-f33a-cdbea2f3cf4b"
      },
      "execution_count": 21,
      "outputs": [
        {
          "output_type": "stream",
          "name": "stdout",
          "text": [
            "Ingrese el monto a retirar: 50\n",
            "Operación exitosa. Su nuevo saldo es: 950.0\n"
          ]
        }
      ]
    },
    {
      "cell_type": "markdown",
      "source": [
        "# PARTE 2\n"
      ],
      "metadata": {
        "id": "7B1Ut9yQpz5U"
      }
    },
    {
      "cell_type": "markdown",
      "source": [
        "## 1. Escribe un programa que imprima los números del 1 al 10.\n"
      ],
      "metadata": {
        "id": "d8zNl0SMqEGC"
      }
    },
    {
      "cell_type": "code",
      "source": [
        "for i in range(1, 11):\n",
        "    print(i)"
      ],
      "metadata": {
        "colab": {
          "base_uri": "https://localhost:8080/"
        },
        "id": "iw6F9oyQqyv4",
        "outputId": "82d731f1-1f42-4785-bb8b-86a1d54c8625"
      },
      "execution_count": 22,
      "outputs": [
        {
          "output_type": "stream",
          "name": "stdout",
          "text": [
            "1\n",
            "2\n",
            "3\n",
            "4\n",
            "5\n",
            "6\n",
            "7\n",
            "8\n",
            "9\n",
            "10\n"
          ]
        }
      ]
    },
    {
      "cell_type": "markdown",
      "source": [
        "## 2. Escribe un programa que sume los números del 1 al 100.\n"
      ],
      "metadata": {
        "id": "NgQaarmbqLIk"
      }
    },
    {
      "cell_type": "code",
      "source": [
        "suma = 0\n",
        "for i in range(1, 101):\n",
        "    suma += i\n",
        "\n",
        "print(\"La suma de los números del 1 al 100 es:\", suma)"
      ],
      "metadata": {
        "colab": {
          "base_uri": "https://localhost:8080/"
        },
        "id": "WfbkyV-qqzIq",
        "outputId": "963b8f59-fdba-4d59-930f-52f816cac5b0"
      },
      "execution_count": 23,
      "outputs": [
        {
          "output_type": "stream",
          "name": "stdout",
          "text": [
            "La suma de los números del 1 al 100 es: 5050\n"
          ]
        }
      ]
    },
    {
      "cell_type": "markdown",
      "source": [
        "## 3. Escribe un programa que imprima los múltiplos de 3 entre 1 y 30.\n"
      ],
      "metadata": {
        "id": "b1kSXwvMqRst"
      }
    },
    {
      "cell_type": "code",
      "source": [
        "for i in range(1, 31):\n",
        "    if i % 3 == 0:\n",
        "        print(i)"
      ],
      "metadata": {
        "colab": {
          "base_uri": "https://localhost:8080/"
        },
        "id": "eT0APPbMqznS",
        "outputId": "b4a4d4d2-7e24-414d-b827-05ff2c66ab6a"
      },
      "execution_count": 24,
      "outputs": [
        {
          "output_type": "stream",
          "name": "stdout",
          "text": [
            "3\n",
            "6\n",
            "9\n",
            "12\n",
            "15\n",
            "18\n",
            "21\n",
            "24\n",
            "27\n",
            "30\n"
          ]
        }
      ]
    },
    {
      "cell_type": "markdown",
      "source": [
        "## 4. Escribe un programa que lea un número e imprima su tabla de multiplicar del 1 al 10.\n"
      ],
      "metadata": {
        "id": "O3uxZgSAqRlY"
      }
    },
    {
      "cell_type": "code",
      "source": [
        "numero = int(input(\"Ingrese un número: \"))\n",
        "\n",
        "for i in range(1, 11):\n",
        "    print(numero, \"x\", i, \"=\", numero * i)"
      ],
      "metadata": {
        "colab": {
          "base_uri": "https://localhost:8080/"
        },
        "id": "BWuCF0oIq0Lm",
        "outputId": "f804da21-d04a-47f0-dae3-446c3c675cc6"
      },
      "execution_count": 25,
      "outputs": [
        {
          "output_type": "stream",
          "name": "stdout",
          "text": [
            "Ingrese un número: 5\n",
            "5 x 1 = 5\n",
            "5 x 2 = 10\n",
            "5 x 3 = 15\n",
            "5 x 4 = 20\n",
            "5 x 5 = 25\n",
            "5 x 6 = 30\n",
            "5 x 7 = 35\n",
            "5 x 8 = 40\n",
            "5 x 9 = 45\n",
            "5 x 10 = 50\n"
          ]
        }
      ]
    },
    {
      "cell_type": "markdown",
      "source": [
        "## 5. Escribe un programa que pida 5 números al usuario y calcule el promedio.\n"
      ],
      "metadata": {
        "id": "4VBjITELqRc9"
      }
    },
    {
      "cell_type": "code",
      "source": [
        "suma = 0\n",
        "\n",
        "for i in range(5):\n",
        "    num = float(input(\"Ingrese un número: \"))\n",
        "    suma += num\n",
        "\n",
        "promedio = suma / 5\n",
        "print(\"El promedio es:\", promedio)"
      ],
      "metadata": {
        "colab": {
          "base_uri": "https://localhost:8080/"
        },
        "id": "cJwT3Esmq0pG",
        "outputId": "a03569fa-3ff9-4e85-c2bf-b018d719aa4e"
      },
      "execution_count": 26,
      "outputs": [
        {
          "output_type": "stream",
          "name": "stdout",
          "text": [
            "Ingrese un número: 5\n",
            "Ingrese un número: 2\n",
            "Ingrese un número: 45\n",
            "Ingrese un número: 89\n",
            "Ingrese un número: 13\n",
            "El promedio es: 30.8\n"
          ]
        }
      ]
    },
    {
      "cell_type": "markdown",
      "source": [
        "## 6. Escribe un programa que cuente cuántos números pares hay entre 1 y un número ingresado.\n"
      ],
      "metadata": {
        "id": "rPSq8lVGqRU-"
      }
    },
    {
      "cell_type": "code",
      "source": [
        "limite = int(input(\"Ingrese un número: \"))\n",
        "\n",
        "contador = 0\n",
        "for i in range(1, limite + 1):\n",
        "    if i % 2 == 0:\n",
        "        contador += 1\n",
        "\n",
        "print(\"Cantidad de números pares entre 1 y\", limite, \"es:\", contador)"
      ],
      "metadata": {
        "colab": {
          "base_uri": "https://localhost:8080/"
        },
        "id": "3ww2RRjQq1Bu",
        "outputId": "c416af6d-82e1-4fb1-96c5-98c138ebaded"
      },
      "execution_count": 27,
      "outputs": [
        {
          "output_type": "stream",
          "name": "stdout",
          "text": [
            "Ingrese un número: 56\n",
            "Cantidad de números pares entre 1 y 56 es: 28\n"
          ]
        }
      ]
    },
    {
      "cell_type": "markdown",
      "source": [
        "## 7. Escribe un programa que solicite contraseñas hasta que el usuario ingrese una válida, formada por su apellido y la longitud de su apellido (“Espinosa8”, por ejemplo).\n"
      ],
      "metadata": {
        "id": "Ky7tfN6wqRMo"
      }
    },
    {
      "cell_type": "code",
      "source": [
        "apellido = input(\"Ingrese su apellido: \")\n",
        "\n",
        "contraseña_valida = apellido + str(len(apellido))\n",
        "\n",
        "while True:\n",
        "    contraseña = input(\"Ingrese la contraseña: \")\n",
        "    if contraseña == contraseña_valida:\n",
        "        print(\"Contraseña correcta. Acceso permitido.\")\n",
        "        break\n",
        "    else:\n",
        "        print(\"Contraseña incorrecta. Intente de nuevo.\")"
      ],
      "metadata": {
        "colab": {
          "base_uri": "https://localhost:8080/"
        },
        "id": "jzEoC3ulq1qj",
        "outputId": "dd60dd9b-10a4-49f7-f9f6-b10db83b70ce"
      },
      "execution_count": 29,
      "outputs": [
        {
          "output_type": "stream",
          "name": "stdout",
          "text": [
            "Ingrese su apellido: pineda\n",
            "Ingrese la contraseña: pineda6\n",
            "Contraseña correcta. Acceso permitido.\n"
          ]
        }
      ]
    },
    {
      "cell_type": "markdown",
      "source": [
        "## 8. Escribe un programa que imprima los primeros n números de la serie de Fibonacci.\n"
      ],
      "metadata": {
        "id": "9baBYX_dqRCJ"
      }
    },
    {
      "cell_type": "code",
      "source": [
        "n = int(input(\"Ingrese la cantidad de números de la serie Fibonacci: \"))\n",
        "\n",
        "a, b = 0, 1\n",
        "contador = 0\n",
        "\n",
        "while contador < n:\n",
        "    print(a)\n",
        "    a, b = b, a + b\n",
        "    contador += 1"
      ],
      "metadata": {
        "colab": {
          "base_uri": "https://localhost:8080/"
        },
        "id": "SPbfJZAWq2IX",
        "outputId": "e035d16c-a202-464b-84f5-39c7295efe2a"
      },
      "execution_count": 30,
      "outputs": [
        {
          "output_type": "stream",
          "name": "stdout",
          "text": [
            "Ingrese la cantidad de números de la serie Fibonacci: 56\n",
            "0\n",
            "1\n",
            "1\n",
            "2\n",
            "3\n",
            "5\n",
            "8\n",
            "13\n",
            "21\n",
            "34\n",
            "55\n",
            "89\n",
            "144\n",
            "233\n",
            "377\n",
            "610\n",
            "987\n",
            "1597\n",
            "2584\n",
            "4181\n",
            "6765\n",
            "10946\n",
            "17711\n",
            "28657\n",
            "46368\n",
            "75025\n",
            "121393\n",
            "196418\n",
            "317811\n",
            "514229\n",
            "832040\n",
            "1346269\n",
            "2178309\n",
            "3524578\n",
            "5702887\n",
            "9227465\n",
            "14930352\n",
            "24157817\n",
            "39088169\n",
            "63245986\n",
            "102334155\n",
            "165580141\n",
            "267914296\n",
            "433494437\n",
            "701408733\n",
            "1134903170\n",
            "1836311903\n",
            "2971215073\n",
            "4807526976\n",
            "7778742049\n",
            "12586269025\n",
            "20365011074\n",
            "32951280099\n",
            "53316291173\n",
            "86267571272\n",
            "139583862445\n"
          ]
        }
      ]
    },
    {
      "cell_type": "markdown",
      "source": [
        "## 9. Escribe un programa que determine si un número ingresado es primo.\n"
      ],
      "metadata": {
        "id": "5NUomEu7qQ3M"
      }
    },
    {
      "cell_type": "code",
      "source": [
        "numero = int(input(\"Ingrese un número: \"))\n",
        "\n",
        "if numero > 1:\n",
        "    es_primo = True\n",
        "    for i in range(2, numero):\n",
        "        if numero % i == 0:\n",
        "            es_primo = False\n",
        "            break\n",
        "    if es_primo:\n",
        "        print(\"El número es primo.\")\n",
        "    else:\n",
        "        print(\"El número no es primo.\")\n",
        "else:\n",
        "    print(\"El número no es primo.\")"
      ],
      "metadata": {
        "colab": {
          "base_uri": "https://localhost:8080/"
        },
        "id": "3odO1Ctsq2mW",
        "outputId": "5bed5985-aae2-4d0d-bfad-b0e694a73b23"
      },
      "execution_count": 31,
      "outputs": [
        {
          "output_type": "stream",
          "name": "stdout",
          "text": [
            "Ingrese un número: 78\n",
            "El número no es primo.\n"
          ]
        }
      ]
    },
    {
      "cell_type": "markdown",
      "source": [
        "## 10. Escribe un programa que pida una cantidad y luego ingrese esa cantidad de números, imprima cuántos son positivos, negativos y ceros."
      ],
      "metadata": {
        "id": "-7zxfBy_qQTW"
      }
    },
    {
      "cell_type": "code",
      "source": [
        "cantidad = int(input(\"Ingrese la cantidad de números: \"))\n",
        "\n",
        "positivos = 0\n",
        "negativos = 0\n",
        "ceros = 0\n",
        "\n",
        "for i in range(cantidad):\n",
        "    num = float(input(\"Ingrese un número: \"))\n",
        "    if num > 0:\n",
        "        positivos += 1\n",
        "    elif num < 0:\n",
        "        negativos += 1\n",
        "    else:\n",
        "        ceros += 1\n",
        "\n",
        "print(\"Positivos:\", positivos)\n",
        "print(\"Negativos:\", negativos)\n",
        "print(\"Ceros:\", ceros)"
      ],
      "metadata": {
        "colab": {
          "base_uri": "https://localhost:8080/"
        },
        "id": "WAPMtMfkq3GO",
        "outputId": "f443f6e3-4f27-4632-e272-05397785243b"
      },
      "execution_count": 33,
      "outputs": [
        {
          "output_type": "stream",
          "name": "stdout",
          "text": [
            "Ingrese la cantidad de números: 6\n",
            "Ingrese un número: 15\n",
            "Ingrese un número: 45\n",
            "Ingrese un número: 78\n",
            "Ingrese un número: 45\n",
            "Ingrese un número: 45\n",
            "Ingrese un número: 49\n",
            "Positivos: 6\n",
            "Negativos: 0\n",
            "Ceros: 0\n"
          ]
        }
      ]
    },
    {
      "cell_type": "markdown",
      "source": [
        "# PARTE 3"
      ],
      "metadata": {
        "id": "-IBT8SXox1s4"
      }
    },
    {
      "cell_type": "markdown",
      "source": [
        "## 1. Crea una función que reciba un número y retorne su cuadrado.\n",
        "\n"
      ],
      "metadata": {
        "id": "BVjwfcIxx5SE"
      }
    },
    {
      "cell_type": "code",
      "source": [
        "def cuadrado(numero):\n",
        "    return numero ** 2\n",
        "\n",
        "n = float(input(\"Ingrese un número: \"))\n",
        "print(\"El cuadrado es:\", cuadrado(n))"
      ],
      "metadata": {
        "colab": {
          "base_uri": "https://localhost:8080/"
        },
        "id": "VemldY0Xzal2",
        "outputId": "498a132f-2ae8-434e-c938-24eb14d7643f"
      },
      "execution_count": 40,
      "outputs": [
        {
          "output_type": "stream",
          "name": "stdout",
          "text": [
            "Ingrese un número: 45\n",
            "El cuadrado es: 2025.0\n"
          ]
        }
      ]
    },
    {
      "cell_type": "markdown",
      "source": [
        "## 2. Crea una función que reciba un nombre y retorne un saludo personalizado (ese saludo debe ser aleatorio. Para ello, genere al menos 20 saludos).\n",
        "\n"
      ],
      "metadata": {
        "id": "sQfO8Zcqym47"
      }
    },
    {
      "cell_type": "code",
      "source": [
        "import random\n",
        "def saludo_personalizado(nombre):\n",
        "    saludos = [\n",
        "        \"¡Hola\", \"¡Buen día\", \"¡Qué gusto verte\", \"¡Hola de nuevo\", \"¡Hey\",\n",
        "        \"¡Saludos\", \"¡Qué alegría verte\", \"¡Bienvenido\", \"¡Qué tal\", \"¡Hola hola\",\n",
        "        \"¡Mucho gusto\", \"¡Un placer verte\", \"¡Qué milagro\", \"¡Encantado de verte\",\n",
        "        \"¡Qué sorpresa\", \"¡Me alegra verte\", \"¡Hola estimado\", \"¡Hola querido\",\n",
        "        \"¡Hola amigo\", \"¡Buen verte\"\n",
        "    ]\n",
        "    return f\"{random.choice(saludos)}, {nombre}!\"\n",
        "\n",
        "nombre = input(\"Ingrese su nombre: \")\n",
        "print(saludo_personalizado(nombre))"
      ],
      "metadata": {
        "colab": {
          "base_uri": "https://localhost:8080/"
        },
        "id": "ipcXV6NyzbE4",
        "outputId": "4f0766f1-cbe0-4182-82b2-a92caae341e3"
      },
      "execution_count": 42,
      "outputs": [
        {
          "output_type": "stream",
          "name": "stdout",
          "text": [
            "Ingrese su nombre: johan\n",
            "¡Qué tal, johan!\n"
          ]
        }
      ]
    },
    {
      "cell_type": "markdown",
      "source": [
        "## 3. Crea una función que reciba dos números y retorne su suma, resta, multiplicación y división.\n"
      ],
      "metadata": {
        "id": "Egz6NemYyvPo"
      }
    },
    {
      "cell_type": "code",
      "source": [
        "def operaciones(a, b):\n",
        "    if b != 0:\n",
        "        return a + b, a - b, a * b, a / b\n",
        "    else:\n",
        "        return a + b, a - b, a * b, None\n",
        "\n",
        "a = float(input(\"Ingrese el primer número: \"))\n",
        "b = float(input(\"Ingrese el segundo número: \"))\n",
        "res = operaciones(a, b)\n",
        "print(\"Suma:\", res[0], \"Resta:\", res[1], \"Multiplicación:\", res[2], \"División:\", res[3])"
      ],
      "metadata": {
        "colab": {
          "base_uri": "https://localhost:8080/"
        },
        "id": "R3miGxZbzbuC",
        "outputId": "1c07b8c5-9323-4967-aadb-e4c016aac058"
      },
      "execution_count": 43,
      "outputs": [
        {
          "output_type": "stream",
          "name": "stdout",
          "text": [
            "Ingrese el primer número: 4\n",
            "Ingrese el segundo número: 5\n",
            "Suma: 9.0 Resta: -1.0 Multiplicación: 20.0 División: 0.8\n"
          ]
        }
      ]
    },
    {
      "cell_type": "markdown",
      "source": [
        "## 4. Crea una función que reciba una edad y retorne si es mayor de edad.\n"
      ],
      "metadata": {
        "id": "jRPl992WyvHN"
      }
    },
    {
      "cell_type": "code",
      "source": [
        "def es_mayor_edad(edad):\n",
        "    return edad >= 18\n",
        "\n",
        "edad = int(input(\"Ingrese su edad: \"))\n",
        "print(\"Mayor de edad\" if es_mayor_edad(edad) else \"Menor de edad\")"
      ],
      "metadata": {
        "colab": {
          "base_uri": "https://localhost:8080/"
        },
        "id": "QUjBSeebzcCH",
        "outputId": "d28cb1f0-c5f0-44ec-c2ab-a9b18fd92583"
      },
      "execution_count": 44,
      "outputs": [
        {
          "output_type": "stream",
          "name": "stdout",
          "text": [
            "Ingrese su edad: 45\n",
            "Mayor de edad\n"
          ]
        }
      ]
    },
    {
      "cell_type": "markdown",
      "source": [
        "## 5. Crea una función que reciba una palabra y determine si es un palíndromo.\n"
      ],
      "metadata": {
        "id": "4prqVhAgyu-m"
      }
    },
    {
      "cell_type": "code",
      "source": [
        "def es_palindromo(palabra):\n",
        "    palabra = palabra.lower().replace(\" \", \"\")\n",
        "    return palabra == palabra[::-1]\n",
        "\n",
        "palabra = input(\"Ingrese una palabra: \")\n",
        "print(\"Es palíndromo\" if es_palindromo(palabra) else \"No es palíndromo\")"
      ],
      "metadata": {
        "colab": {
          "base_uri": "https://localhost:8080/"
        },
        "id": "F4nrwxWvzcYV",
        "outputId": "7e959cc0-5e29-4d0e-b783-98fa1dfbb177"
      },
      "execution_count": 45,
      "outputs": [
        {
          "output_type": "stream",
          "name": "stdout",
          "text": [
            "Ingrese una palabra: ayuda\n",
            "No es palíndromo\n"
          ]
        }
      ]
    },
    {
      "cell_type": "markdown",
      "source": [
        "## 6. Crea una función que reciba un texto y retorne cuántas vocales contiene.\n"
      ],
      "metadata": {
        "id": "i64pNeU-yu2i"
      }
    },
    {
      "cell_type": "code",
      "source": [
        "def contar_vocales(texto):\n",
        "    texto = texto.lower()\n",
        "    vocales = \"aeiouáéíóú\"\n",
        "    contador = 0\n",
        "    for letra in texto:\n",
        "        if letra in vocales:\n",
        "            contador += 1\n",
        "    return contador\n",
        "\n",
        "texto = input(\"Ingrese un texto: \")\n",
        "print(\"Cantidad de vocales:\", contar_vocales(texto))"
      ],
      "metadata": {
        "colab": {
          "base_uri": "https://localhost:8080/"
        },
        "id": "punM3CDbzc9Z",
        "outputId": "a4560d2c-a16c-4a4e-dee3-c3d38a800f6f"
      },
      "execution_count": 46,
      "outputs": [
        {
          "output_type": "stream",
          "name": "stdout",
          "text": [
            "Ingrese un texto: ayuda\n",
            "Cantidad de vocales: 3\n"
          ]
        }
      ]
    },
    {
      "cell_type": "markdown",
      "source": [
        "## 7. Crea una función que reciba una lista de números y retorne la suma total.\n"
      ],
      "metadata": {
        "id": "cutsquFMyuuW"
      }
    },
    {
      "cell_type": "code",
      "source": [
        "def suma_lista(lista):\n",
        "    return sum(lista)\n",
        "\n",
        "lista = [float(input(f\"Ingrese número {i+1}: \")) for i in range(5)]\n",
        "print(\"Suma total:\", suma_lista(lista))"
      ],
      "metadata": {
        "colab": {
          "base_uri": "https://localhost:8080/"
        },
        "id": "348Gm3cxzdfa",
        "outputId": "4cf06b61-1633-4714-f26f-7c4f84ecd4dd"
      },
      "execution_count": 47,
      "outputs": [
        {
          "output_type": "stream",
          "name": "stdout",
          "text": [
            "Ingrese número 1: 49\n",
            "Ingrese número 2: 4\n",
            "Ingrese número 3: 56\n",
            "Ingrese número 4: 45\n",
            "Ingrese número 5: 45\n",
            "Suma total: 199.0\n"
          ]
        }
      ]
    },
    {
      "cell_type": "markdown",
      "source": [
        "## 8. Crea una función que reciba una lista y retorne el mayor y el menor elemento.\n"
      ],
      "metadata": {
        "id": "91P2S7fjyulz"
      }
    },
    {
      "cell_type": "code",
      "source": [
        "def mayor_menor(lista):\n",
        "    return max(lista), min(lista)\n",
        "\n",
        "lista = [float(input(f\"Ingrese número {i+1}: \")) for i in range(5)]\n",
        "mayor, menor = mayor_menor(lista)\n",
        "print(\"Mayor:\", mayor, \"Menor:\", menor)"
      ],
      "metadata": {
        "colab": {
          "base_uri": "https://localhost:8080/"
        },
        "id": "53mgDnr9zd_w",
        "outputId": "ff3be07a-8d7c-45cf-f0e5-8ab339fa6b55"
      },
      "execution_count": 48,
      "outputs": [
        {
          "output_type": "stream",
          "name": "stdout",
          "text": [
            "Ingrese número 1: 4\n",
            "Ingrese número 2: 45\n",
            "Ingrese número 3: 78\n",
            "Ingrese número 4: 12\n",
            "Ingrese número 5: 23\n",
            "Mayor: 78.0 Menor: 4.0\n"
          ]
        }
      ]
    },
    {
      "cell_type": "markdown",
      "source": [
        "## 9. Crea una función que reciba una lista y retorne una nueva lista con los elementos en orden inverso.\n"
      ],
      "metadata": {
        "id": "Gb0DWpgQyudQ"
      }
    },
    {
      "cell_type": "code",
      "source": [
        "def invertir_lista(lista):\n",
        "    return lista[::-1]\n",
        "\n",
        "lista = [input(f\"Ingrese elemento {i+1}: \") for i in range(5)]\n",
        "print(\"Lista invertida:\", invertir_lista(lista))"
      ],
      "metadata": {
        "colab": {
          "base_uri": "https://localhost:8080/"
        },
        "id": "-rTeoRWkzebR",
        "outputId": "5f53ca03-8d69-47f8-aec4-1c5a8ed9ca36"
      },
      "execution_count": 49,
      "outputs": [
        {
          "output_type": "stream",
          "name": "stdout",
          "text": [
            "Ingrese elemento 1: 4\n",
            "Ingrese elemento 2: 78\n",
            "Ingrese elemento 3: 45\n",
            "Ingrese elemento 4: 12\n",
            "Ingrese elemento 5: 23\n",
            "Lista invertida: ['23', '12', '45', '78', '4']\n"
          ]
        }
      ]
    },
    {
      "cell_type": "markdown",
      "source": [
        "## 10. Crea una función que reciba una lista de nombres y retorne cuántos nombres comienzan con vocal."
      ],
      "metadata": {
        "id": "voCqQVGyyuUy"
      }
    },
    {
      "cell_type": "code",
      "source": [
        "def nombres_con_vocal(lista_nombres):\n",
        "    vocales = \"aeiouáéíóú\"\n",
        "    contador = 0\n",
        "    for nombre in lista_nombres:\n",
        "        if nombre and nombre[0].lower() in vocales:\n",
        "            contador += 1\n",
        "    return contador\n",
        "\n",
        "nombres = [input(f\"Ingrese nombre {i+1}: \") for i in range(5)]\n",
        "print(\"Cantidad que empiezan con vocal:\", nombres_con_vocal(nombres))"
      ],
      "metadata": {
        "colab": {
          "base_uri": "https://localhost:8080/"
        },
        "id": "UooZ5VnXze6F",
        "outputId": "7b87ec22-465b-430d-e4df-88d46e410e7f"
      },
      "execution_count": 51,
      "outputs": [
        {
          "output_type": "stream",
          "name": "stdout",
          "text": [
            "Ingrese nombre 1: johan\n",
            "Ingrese nombre 2: ana\n",
            "Ingrese nombre 3: luz\n",
            "Ingrese nombre 4: jose\n",
            "Ingrese nombre 5: anny\n",
            "Cantidad que empiezan con vocal: 2\n"
          ]
        }
      ]
    },
    {
      "cell_type": "markdown",
      "source": [
        "## 11. Crea una función que reciba una lista y retorne otra lista sin elementos repetidos.\n"
      ],
      "metadata": {
        "id": "mtRXMcd8yuMT"
      }
    },
    {
      "cell_type": "code",
      "source": [
        "def sin_repetidos(lista):\n",
        "    return list(set(lista))\n",
        "\n",
        "lista = [input(f\"Ingrese elemento {i+1}: \") for i in range(5)]\n",
        "print(\"Lista sin repetidos:\", sin_repetidos(lista))"
      ],
      "metadata": {
        "colab": {
          "base_uri": "https://localhost:8080/"
        },
        "id": "DUmBM2qwzfNT",
        "outputId": "24555122-7a0c-4b4d-a85e-7ea815afb2df"
      },
      "execution_count": 52,
      "outputs": [
        {
          "output_type": "stream",
          "name": "stdout",
          "text": [
            "Ingrese elemento 1: \n",
            "Ingrese elemento 2: 2\n",
            "Ingrese elemento 3: 3\n",
            "Ingrese elemento 4: 4\n",
            "Ingrese elemento 5: 4\n",
            "Lista sin repetidos: ['', '2', '3', '4']\n"
          ]
        }
      ]
    },
    {
      "cell_type": "markdown",
      "source": [
        "## 12. Crea una función que reciba una lista de números y retorne solo los que son primos.\n"
      ],
      "metadata": {
        "id": "EEyNg_Puyt9x"
      }
    },
    {
      "cell_type": "code",
      "source": [
        "def primos_lista(lista):\n",
        "    primos = []\n",
        "    for num in lista:\n",
        "        if num > 1:\n",
        "            es_primo = True\n",
        "            for i in range(2, num):\n",
        "                if num % i == 0:\n",
        "                    es_primo = False\n",
        "                    break\n",
        "            if es_primo:\n",
        "                primos.append(num)\n",
        "    return primos\n",
        "\n",
        "lista = [int(input(f\"Ingrese número {i+1}: \")) for i in range(5)]\n",
        "print(\"Números primos:\", primos_lista(lista))"
      ],
      "metadata": {
        "colab": {
          "base_uri": "https://localhost:8080/"
        },
        "id": "7IrwAO8PzfgV",
        "outputId": "d4709935-0939-4b68-879e-a865c00a996f"
      },
      "execution_count": 53,
      "outputs": [
        {
          "output_type": "stream",
          "name": "stdout",
          "text": [
            "Ingrese número 1: 78\n",
            "Ingrese número 2: 45\n",
            "Ingrese número 3: 12\n",
            "Ingrese número 4: 35\n",
            "Ingrese número 5: 65\n",
            "Números primos: []\n"
          ]
        }
      ]
    },
    {
      "cell_type": "markdown",
      "source": [
        "## 13. Crea una función que reciba un diccionario con claves 'nombre' y 'edad', y retorne un mensaje con esos datos.\n"
      ],
      "metadata": {
        "id": "lhj1eECwyt0n"
      }
    },
    {
      "cell_type": "code",
      "source": [
        "def mensaje_persona(dic):\n",
        "    return f\"Nombre: {dic['nombre']}, Edad: {dic['edad']}\"\n",
        "\n",
        "nombre = input(\"Ingrese el nombre: \")\n",
        "edad = int(input(\"Ingrese la edad: \"))\n",
        "print(mensaje_persona({\"nombre\": nombre, \"edad\": edad}))"
      ],
      "metadata": {
        "colab": {
          "base_uri": "https://localhost:8080/"
        },
        "id": "ZwbTyfyPzgMW",
        "outputId": "c7a26ae2-17a4-41f6-b7df-352d954fda85"
      },
      "execution_count": 54,
      "outputs": [
        {
          "output_type": "stream",
          "name": "stdout",
          "text": [
            "Ingrese el nombre: johan\n",
            "Ingrese la edad: 22\n",
            "Nombre: johan, Edad: 22\n"
          ]
        }
      ]
    },
    {
      "cell_type": "markdown",
      "source": [
        "## 14. Crea una función que reciba un diccionario de productos (clave: nombre, valor: precio) y retorne el total.\n"
      ],
      "metadata": {
        "id": "-elPq3kxytqj"
      }
    },
    {
      "cell_type": "code",
      "source": [
        "def total_productos(dic):\n",
        "    return sum(dic.values())\n",
        "\n",
        "productos = {}\n",
        "for i in range(3):\n",
        "    prod = input(f\"Ingrese nombre del producto {i+1}: \")\n",
        "    precio = float(input(\"Ingrese precio: \"))\n",
        "    productos[prod] = precio\n",
        "print(\"Total:\", total_productos(productos))"
      ],
      "metadata": {
        "colab": {
          "base_uri": "https://localhost:8080/"
        },
        "id": "fPNzM0ZozgfL",
        "outputId": "577169e5-5f67-4e27-d17c-94c4c0ea35fd"
      },
      "execution_count": 55,
      "outputs": [
        {
          "output_type": "stream",
          "name": "stdout",
          "text": [
            "Ingrese nombre del producto 1: tornillo\n",
            "Ingrese precio: 2000\n",
            "Ingrese nombre del producto 2: pala\n",
            "Ingrese precio: 3000\n",
            "Ingrese nombre del producto 3: bombillo\n",
            "Ingrese precio: 2000\n",
            "Total: 7000.0\n"
          ]
        }
      ]
    },
    {
      "cell_type": "markdown",
      "source": [
        "## 15. Crea una función que reciba un diccionario de estudiantes (clave: nombre, valor: nota) y retorne el promedio.\n"
      ],
      "metadata": {
        "id": "zo1pY4dWytix"
      }
    },
    {
      "cell_type": "code",
      "source": [
        "def promedio_notas(dic):\n",
        "    return sum(dic.values()) / len(dic) if dic else 0\n",
        "\n",
        "estudiantes = {}\n",
        "for i in range(3):\n",
        "    nom = input(f\"Ingrese nombre del estudiante {i+1}: \")\n",
        "    nota = float(input(\"Ingrese nota: \"))\n",
        "    estudiantes[nom] = nota\n",
        "print(\"Promedio de notas:\", promedio_notas(estudiantes))"
      ],
      "metadata": {
        "colab": {
          "base_uri": "https://localhost:8080/"
        },
        "id": "o66TRhv0zg22",
        "outputId": "c2412ec4-286f-41a4-9bf5-26b437565b98"
      },
      "execution_count": 57,
      "outputs": [
        {
          "output_type": "stream",
          "name": "stdout",
          "text": [
            "Ingrese nombre del estudiante 1: mora\n",
            "Ingrese nota: 45\n",
            "Ingrese nombre del estudiante 2: luz\n",
            "Ingrese nota: 90\n",
            "Ingrese nombre del estudiante 3: jose\n",
            "Ingrese nota: 65\n",
            "Promedio de notas: 66.66666666666667\n"
          ]
        }
      ]
    },
    {
      "cell_type": "markdown",
      "source": [
        "## 16. Crea una función que reciba un diccionario y un nombre, y retorne la nota si existe o 'no encontrado'.\n"
      ],
      "metadata": {
        "id": "Ni5aWke9yta_"
      }
    },
    {
      "cell_type": "code",
      "source": [
        "def buscar_nota(dic, nombre):\n",
        "    return dic.get(nombre, \"no encontrado\")\n",
        "\n",
        "nombre_buscar = input(\"Ingrese nombre del estudiante a buscar: \")\n",
        "print(\"Resultado:\", buscar_nota(estudiantes, nombre_buscar))"
      ],
      "metadata": {
        "colab": {
          "base_uri": "https://localhost:8080/"
        },
        "id": "AJii1AuvzhVF",
        "outputId": "97558b55-390b-4157-c6b8-96cea1a2a167"
      },
      "execution_count": 58,
      "outputs": [
        {
          "output_type": "stream",
          "name": "stdout",
          "text": [
            "Ingrese nombre del estudiante a buscar: johan\n",
            "Resultado: no encontrado\n"
          ]
        }
      ]
    },
    {
      "cell_type": "markdown",
      "source": [
        "## 17. Crea una función que reciba un diccionario y retorne el nombre del estudiante con mayor nota.\n"
      ],
      "metadata": {
        "id": "dxPRYZUJytRy"
      }
    },
    {
      "cell_type": "code",
      "source": [
        "def estudiante_mejor_nota(dic):\n",
        "    return max(dic, key=dic.get) if dic else None\n",
        "\n",
        "print(\"Estudiante con mejor nota:\", estudiante_mejor_nota(estudiantes))"
      ],
      "metadata": {
        "colab": {
          "base_uri": "https://localhost:8080/"
        },
        "id": "ioB8fUjlzhyP",
        "outputId": "5e489a3e-af23-4daa-a993-2ddf42b808ed"
      },
      "execution_count": 59,
      "outputs": [
        {
          "output_type": "stream",
          "name": "stdout",
          "text": [
            "Estudiante con mejor nota: luz\n"
          ]
        }
      ]
    },
    {
      "cell_type": "markdown",
      "source": [
        "## 18. Crea una función que reciba un diccionario de productos y retorne los productos con precios mayores a un valor dado.\n"
      ],
      "metadata": {
        "id": "Jq9Kw_MxytIm"
      }
    },
    {
      "cell_type": "code",
      "source": [
        "def productos_mayores(dic, valor):\n",
        "    return {k: v for k, v in dic.items() if v > valor}\n",
        "\n",
        "valor = float(input(\"Ingrese valor mínimo: \"))\n",
        "print(\"Productos mayores:\", productos_mayores(productos, valor))"
      ],
      "metadata": {
        "colab": {
          "base_uri": "https://localhost:8080/"
        },
        "id": "5XqXW0kozicb",
        "outputId": "36b12b0a-c5ed-4552-db5d-0aeeb69b3d4d"
      },
      "execution_count": 60,
      "outputs": [
        {
          "output_type": "stream",
          "name": "stdout",
          "text": [
            "Ingrese valor mínimo: 23\n",
            "Productos mayores: {'tornillo': 2000.0, 'pala': 3000.0, 'bombillo': 2000.0}\n"
          ]
        }
      ]
    },
    {
      "cell_type": "markdown",
      "source": [
        "## 19. Crea una función que reciba un diccionario de empleados (clave: nombre, valor: lista de horas trabajadas) y retorne el total de horas por empleado.\n"
      ],
      "metadata": {
        "id": "Id3ION8Hys-Y"
      }
    },
    {
      "cell_type": "code",
      "source": [
        "def total_horas(dic):\n",
        "    return {empleado: sum(horas) for empleado, horas in dic.items()}\n",
        "\n",
        "empleados = {}\n",
        "for i in range(2):\n",
        "    emp = input(f\"Ingrese nombre del empleado {i+1}: \")\n",
        "    horas = [int(input(f\"Ingrese horas trabajadas día {j+1}: \")) for j in range(3)]\n",
        "    empleados[emp] = horas\n",
        "print(\"Total de horas:\", total_horas(empleados))"
      ],
      "metadata": {
        "colab": {
          "base_uri": "https://localhost:8080/"
        },
        "id": "3k9ZHAQ9zi1k",
        "outputId": "3a63da58-ba3d-4d08-a1bf-80ec5add59c7"
      },
      "execution_count": 63,
      "outputs": [
        {
          "output_type": "stream",
          "name": "stdout",
          "text": [
            "Ingrese nombre del empleado 1: roberto\n",
            "Ingrese horas trabajadas día 1: 5\n",
            "Ingrese horas trabajadas día 2: 4\n",
            "Ingrese horas trabajadas día 3: 6\n",
            "Ingrese nombre del empleado 2: alirio\n",
            "Ingrese horas trabajadas día 1: 3\n",
            "Ingrese horas trabajadas día 2: 4\n",
            "Ingrese horas trabajadas día 3: 5\n",
            "Total de horas: {'roberto': 15, 'alirio': 12}\n"
          ]
        }
      ]
    },
    {
      "cell_type": "markdown",
      "source": [
        "## 20. Crea una función que reciba un diccionario anidado con datos de estudiantes (nombre  {'nota': x, 'edad': y}) y retorne el promedio de notas de los mayores de edad."
      ],
      "metadata": {
        "id": "aoWKmUkryszC"
      }
    },
    {
      "cell_type": "code",
      "source": [
        "def promedio_mayores(dic):\n",
        "    notas = [datos['nota'] for datos in dic.values() if datos['edad'] >= 18]\n",
        "    return sum(notas) / len(notas) if notas else 0\n",
        "\n",
        "estudiantes_datos = {}\n",
        "for i in range(3):\n",
        "    nom = input(f\"Ingrese nombre del estudiante {i+1}: \")\n",
        "    nota = float(input(\"Ingrese nota: \"))\n",
        "    edad = int(input(\"Ingrese edad: \"))\n",
        "    estudiantes_datos[nom] = {\"nota\": nota, \"edad\": edad}\n",
        "print(\"Promedio de notas de mayores de edad:\", promedio_mayores(estudiantes_datos))"
      ],
      "metadata": {
        "colab": {
          "base_uri": "https://localhost:8080/"
        },
        "id": "QweVsnlMzjMQ",
        "outputId": "a954a96a-ef4f-45de-c3d8-a29e2ae9bd6c"
      },
      "execution_count": 64,
      "outputs": [
        {
          "output_type": "stream",
          "name": "stdout",
          "text": [
            "Ingrese nombre del estudiante 1: sebas\n",
            "Ingrese nota: 56\n",
            "Ingrese edad: 20\n",
            "Ingrese nombre del estudiante 2: luis\n",
            "Ingrese nota: 70\n",
            "Ingrese edad: 23\n",
            "Ingrese nombre del estudiante 3: angel\n",
            "Ingrese nota: 80\n",
            "Ingrese edad: 21\n",
            "Promedio de notas de mayores de edad: 68.66666666666667\n"
          ]
        }
      ]
    }
  ]
}